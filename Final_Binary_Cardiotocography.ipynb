{
  "nbformat": 4,
  "nbformat_minor": 0,
  "metadata": {
    "colab": {
      "name": "Final Binary Cardiotocography.ipynb",
      "provenance": [],
      "collapsed_sections": [
        "iLUzidZj7pj7",
        "nzfW_Of97C7i",
        "o7-xTee17f7S",
        "meOMh53h7Of3",
        "ttQ9ztJD70Lk",
        "z67yhs1g7ZnG",
        "oFHORJ_F8Uyr",
        "Pc5Bt4UQ8moH",
        "g_8NsFcX8prm",
        "sXhH2Y_S8t3G",
        "dga7iSmP8xZD",
        "YJxD4cud817f",
        "zCNiOSkp84je"
      ],
      "toc_visible": true
    },
    "kernelspec": {
      "name": "python3",
      "display_name": "Python 3"
    },
    "language_info": {
      "name": "python"
    }
  },
  "cells": [
    {
      "cell_type": "markdown",
      "source": [
        "# Import"
      ],
      "metadata": {
        "id": "iLUzidZj7pj7"
      }
    },
    {
      "cell_type": "code",
      "metadata": {
        "colab": {
          "base_uri": "https://localhost:8080/"
        },
        "id": "x91LYjRM91r5",
        "outputId": "ec7341e6-71bf-451a-916a-42d7164d6a78"
      },
      "source": [
        "import pandas as pd\n",
        "import numpy as np\n",
        "import matplotlib\n",
        "import matplotlib.pyplot as plt\n",
        "import matplotlib.patches as mpatches\n",
        "import numpy as np\n",
        "import seaborn as sns\n",
        "import imblearn\n",
        "\n",
        "from sklearn.preprocessing import StandardScaler\n",
        "from sklearn.model_selection import train_test_split\n",
        "from sklearn.decomposition import PCA\n",
        "from sklearn.model_selection import GridSearchCV\n",
        "from sklearn.svm import SVC, LinearSVC\n",
        "from sklearn.metrics import f1_score, make_scorer, precision_score, recall_score, accuracy_score, plot_confusion_matrix, classification_report\n",
        "from sklearn.model_selection import StratifiedKFold\n",
        "from sklearn.linear_model import LogisticRegression\n",
        "from sklearn.neighbors import KNeighborsClassifier\n",
        "from sklearn.ensemble import RandomForestClassifier\n",
        "from sklearn.ensemble import IsolationForest\n",
        "\n",
        "\n",
        "\n",
        "from imblearn.over_sampling import SMOTE\n",
        "from imblearn.over_sampling import RandomOverSampler\n",
        "from imblearn.combine import SMOTEENN\n",
        "from imblearn.under_sampling import EditedNearestNeighbours\n",
        "from imblearn.under_sampling import ClusterCentroids\n",
        "from imblearn.pipeline import make_pipeline\n",
        "\n",
        "\n",
        "\n",
        "from google.colab import drive\n",
        "drive.mount('/content/drive')"
      ],
      "execution_count": null,
      "outputs": [
        {
          "output_type": "stream",
          "name": "stdout",
          "text": [
            "Drive already mounted at /content/drive; to attempt to forcibly remount, call drive.mount(\"/content/drive\", force_remount=True).\n"
          ]
        }
      ]
    },
    {
      "cell_type": "code",
      "source": [
        "#pip install kaleido"
      ],
      "metadata": {
        "id": "JsayCzaqI_RH"
      },
      "execution_count": null,
      "outputs": []
    },
    {
      "cell_type": "markdown",
      "source": [
        "# Caricamento Database"
      ],
      "metadata": {
        "id": "nzfW_Of97C7i"
      }
    },
    {
      "cell_type": "code",
      "metadata": {
        "id": "joeVkE_-FmLT"
      },
      "source": [
        "cardio_df=pd.read_csv('/content/drive/MyDrive/Mathematics for ML/Cardio.csv', sep=';')"
      ],
      "execution_count": null,
      "outputs": []
    },
    {
      "cell_type": "code",
      "metadata": {
        "id": "Bbw1Jje4KCgr",
        "colab": {
          "base_uri": "https://localhost:8080/"
        },
        "outputId": "dbba44bb-b240-4b6f-d6de-0d88ba92d7ce"
      },
      "source": [
        "# ADATTAMENTO AL PROBLEMA BINARIO \n",
        "cardio_df.NSP.replace(3,2,inplace=True) #inplace serve per rendere effettiva la modifica anche su cardio_df\n",
        "cardio_df = cardio_df.rename(columns={\"NSP\": \"TARGET\"})\n",
        "cardio_df = cardio_df.drop('CLASS',1)\n",
        "cardio_df = cardio_df.drop('Tendency',1)"
      ],
      "execution_count": null,
      "outputs": [
        {
          "output_type": "stream",
          "name": "stderr",
          "text": [
            "/usr/local/lib/python3.7/dist-packages/ipykernel_launcher.py:4: FutureWarning: In a future version of pandas all arguments of DataFrame.drop except for the argument 'labels' will be keyword-only\n",
            "  after removing the cwd from sys.path.\n",
            "/usr/local/lib/python3.7/dist-packages/ipykernel_launcher.py:5: FutureWarning: In a future version of pandas all arguments of DataFrame.drop except for the argument 'labels' will be keyword-only\n",
            "  \"\"\"\n"
          ]
        }
      ]
    },
    {
      "cell_type": "code",
      "source": [
        "class_distribution = cardio_df.TARGET.value_counts()\n",
        "class_distribution"
      ],
      "metadata": {
        "colab": {
          "base_uri": "https://localhost:8080/"
        },
        "id": "FLb0S4sgsgun",
        "outputId": "dd7e092e-d95a-4189-e269-e0f89ee9e325"
      },
      "execution_count": null,
      "outputs": [
        {
          "output_type": "execute_result",
          "data": {
            "text/plain": [
              "1    1655\n",
              "2     471\n",
              "Name: TARGET, dtype: int64"
            ]
          },
          "metadata": {},
          "execution_count": 5
        }
      ]
    },
    {
      "cell_type": "code",
      "source": [
        "cardio_df"
      ],
      "metadata": {
        "colab": {
          "base_uri": "https://localhost:8080/",
          "height": 424
        },
        "id": "9q8fMNyL35h4",
        "outputId": "e9dc4e8a-84cf-49c5-a914-d26e9fae497b"
      },
      "execution_count": null,
      "outputs": [
        {
          "output_type": "execute_result",
          "data": {
            "text/plain": [
              "       LB        AC        FM        UC        DL   DS   DP  ASTV  MSTV  ALTV  \\\n",
              "0     120  0.000000  0.000000  0.000000  0.000000  0.0  0.0    73   0.5    43   \n",
              "1     132  0.006380  0.000000  0.006380  0.003190  0.0  0.0    17   2.1     0   \n",
              "2     133  0.003322  0.000000  0.008306  0.003322  0.0  0.0    16   2.1     0   \n",
              "3     134  0.002561  0.000000  0.007682  0.002561  0.0  0.0    16   2.4     0   \n",
              "4     132  0.006515  0.000000  0.008143  0.000000  0.0  0.0    16   2.4     0   \n",
              "...   ...       ...       ...       ...       ...  ...  ...   ...   ...   ...   \n",
              "2121  140  0.000000  0.000000  0.007426  0.000000  0.0  0.0    79   0.2    25   \n",
              "2122  140  0.000775  0.000000  0.006971  0.000000  0.0  0.0    78   0.4    22   \n",
              "2123  140  0.000980  0.000000  0.006863  0.000000  0.0  0.0    79   0.4    20   \n",
              "2124  140  0.000679  0.000000  0.006110  0.000000  0.0  0.0    78   0.4    27   \n",
              "2125  142  0.001616  0.001616  0.008078  0.000000  0.0  0.0    74   0.4    36   \n",
              "\n",
              "      ...  Width  Min  Max  Nmax  Nzeros  Mode  Mean  Median  Variance  TARGET  \n",
              "0     ...     64   62  126     2       0   120   137     121        73       2  \n",
              "1     ...    130   68  198     6       1   141   136     140        12       1  \n",
              "2     ...    130   68  198     5       1   141   135     138        13       1  \n",
              "3     ...    117   53  170    11       0   137   134     137        13       1  \n",
              "4     ...    117   53  170     9       0   137   136     138        11       1  \n",
              "...   ...    ...  ...  ...   ...     ...   ...   ...     ...       ...     ...  \n",
              "2121  ...     40  137  177     4       0   153   150     152         2       2  \n",
              "2122  ...     66  103  169     6       0   152   148     151         3       2  \n",
              "2123  ...     67  103  170     5       0   153   148     152         4       2  \n",
              "2124  ...     66  103  169     6       0   152   147     151         4       2  \n",
              "2125  ...     42  117  159     2       1   145   143     145         1       1  \n",
              "\n",
              "[2126 rows x 21 columns]"
            ],
            "text/html": [
              "\n",
              "  <div id=\"df-8131be85-c11b-41b2-9ce2-3fcca64857bc\">\n",
              "    <div class=\"colab-df-container\">\n",
              "      <div>\n",
              "<style scoped>\n",
              "    .dataframe tbody tr th:only-of-type {\n",
              "        vertical-align: middle;\n",
              "    }\n",
              "\n",
              "    .dataframe tbody tr th {\n",
              "        vertical-align: top;\n",
              "    }\n",
              "\n",
              "    .dataframe thead th {\n",
              "        text-align: right;\n",
              "    }\n",
              "</style>\n",
              "<table border=\"1\" class=\"dataframe\">\n",
              "  <thead>\n",
              "    <tr style=\"text-align: right;\">\n",
              "      <th></th>\n",
              "      <th>LB</th>\n",
              "      <th>AC</th>\n",
              "      <th>FM</th>\n",
              "      <th>UC</th>\n",
              "      <th>DL</th>\n",
              "      <th>DS</th>\n",
              "      <th>DP</th>\n",
              "      <th>ASTV</th>\n",
              "      <th>MSTV</th>\n",
              "      <th>ALTV</th>\n",
              "      <th>...</th>\n",
              "      <th>Width</th>\n",
              "      <th>Min</th>\n",
              "      <th>Max</th>\n",
              "      <th>Nmax</th>\n",
              "      <th>Nzeros</th>\n",
              "      <th>Mode</th>\n",
              "      <th>Mean</th>\n",
              "      <th>Median</th>\n",
              "      <th>Variance</th>\n",
              "      <th>TARGET</th>\n",
              "    </tr>\n",
              "  </thead>\n",
              "  <tbody>\n",
              "    <tr>\n",
              "      <th>0</th>\n",
              "      <td>120</td>\n",
              "      <td>0.000000</td>\n",
              "      <td>0.000000</td>\n",
              "      <td>0.000000</td>\n",
              "      <td>0.000000</td>\n",
              "      <td>0.0</td>\n",
              "      <td>0.0</td>\n",
              "      <td>73</td>\n",
              "      <td>0.5</td>\n",
              "      <td>43</td>\n",
              "      <td>...</td>\n",
              "      <td>64</td>\n",
              "      <td>62</td>\n",
              "      <td>126</td>\n",
              "      <td>2</td>\n",
              "      <td>0</td>\n",
              "      <td>120</td>\n",
              "      <td>137</td>\n",
              "      <td>121</td>\n",
              "      <td>73</td>\n",
              "      <td>2</td>\n",
              "    </tr>\n",
              "    <tr>\n",
              "      <th>1</th>\n",
              "      <td>132</td>\n",
              "      <td>0.006380</td>\n",
              "      <td>0.000000</td>\n",
              "      <td>0.006380</td>\n",
              "      <td>0.003190</td>\n",
              "      <td>0.0</td>\n",
              "      <td>0.0</td>\n",
              "      <td>17</td>\n",
              "      <td>2.1</td>\n",
              "      <td>0</td>\n",
              "      <td>...</td>\n",
              "      <td>130</td>\n",
              "      <td>68</td>\n",
              "      <td>198</td>\n",
              "      <td>6</td>\n",
              "      <td>1</td>\n",
              "      <td>141</td>\n",
              "      <td>136</td>\n",
              "      <td>140</td>\n",
              "      <td>12</td>\n",
              "      <td>1</td>\n",
              "    </tr>\n",
              "    <tr>\n",
              "      <th>2</th>\n",
              "      <td>133</td>\n",
              "      <td>0.003322</td>\n",
              "      <td>0.000000</td>\n",
              "      <td>0.008306</td>\n",
              "      <td>0.003322</td>\n",
              "      <td>0.0</td>\n",
              "      <td>0.0</td>\n",
              "      <td>16</td>\n",
              "      <td>2.1</td>\n",
              "      <td>0</td>\n",
              "      <td>...</td>\n",
              "      <td>130</td>\n",
              "      <td>68</td>\n",
              "      <td>198</td>\n",
              "      <td>5</td>\n",
              "      <td>1</td>\n",
              "      <td>141</td>\n",
              "      <td>135</td>\n",
              "      <td>138</td>\n",
              "      <td>13</td>\n",
              "      <td>1</td>\n",
              "    </tr>\n",
              "    <tr>\n",
              "      <th>3</th>\n",
              "      <td>134</td>\n",
              "      <td>0.002561</td>\n",
              "      <td>0.000000</td>\n",
              "      <td>0.007682</td>\n",
              "      <td>0.002561</td>\n",
              "      <td>0.0</td>\n",
              "      <td>0.0</td>\n",
              "      <td>16</td>\n",
              "      <td>2.4</td>\n",
              "      <td>0</td>\n",
              "      <td>...</td>\n",
              "      <td>117</td>\n",
              "      <td>53</td>\n",
              "      <td>170</td>\n",
              "      <td>11</td>\n",
              "      <td>0</td>\n",
              "      <td>137</td>\n",
              "      <td>134</td>\n",
              "      <td>137</td>\n",
              "      <td>13</td>\n",
              "      <td>1</td>\n",
              "    </tr>\n",
              "    <tr>\n",
              "      <th>4</th>\n",
              "      <td>132</td>\n",
              "      <td>0.006515</td>\n",
              "      <td>0.000000</td>\n",
              "      <td>0.008143</td>\n",
              "      <td>0.000000</td>\n",
              "      <td>0.0</td>\n",
              "      <td>0.0</td>\n",
              "      <td>16</td>\n",
              "      <td>2.4</td>\n",
              "      <td>0</td>\n",
              "      <td>...</td>\n",
              "      <td>117</td>\n",
              "      <td>53</td>\n",
              "      <td>170</td>\n",
              "      <td>9</td>\n",
              "      <td>0</td>\n",
              "      <td>137</td>\n",
              "      <td>136</td>\n",
              "      <td>138</td>\n",
              "      <td>11</td>\n",
              "      <td>1</td>\n",
              "    </tr>\n",
              "    <tr>\n",
              "      <th>...</th>\n",
              "      <td>...</td>\n",
              "      <td>...</td>\n",
              "      <td>...</td>\n",
              "      <td>...</td>\n",
              "      <td>...</td>\n",
              "      <td>...</td>\n",
              "      <td>...</td>\n",
              "      <td>...</td>\n",
              "      <td>...</td>\n",
              "      <td>...</td>\n",
              "      <td>...</td>\n",
              "      <td>...</td>\n",
              "      <td>...</td>\n",
              "      <td>...</td>\n",
              "      <td>...</td>\n",
              "      <td>...</td>\n",
              "      <td>...</td>\n",
              "      <td>...</td>\n",
              "      <td>...</td>\n",
              "      <td>...</td>\n",
              "      <td>...</td>\n",
              "    </tr>\n",
              "    <tr>\n",
              "      <th>2121</th>\n",
              "      <td>140</td>\n",
              "      <td>0.000000</td>\n",
              "      <td>0.000000</td>\n",
              "      <td>0.007426</td>\n",
              "      <td>0.000000</td>\n",
              "      <td>0.0</td>\n",
              "      <td>0.0</td>\n",
              "      <td>79</td>\n",
              "      <td>0.2</td>\n",
              "      <td>25</td>\n",
              "      <td>...</td>\n",
              "      <td>40</td>\n",
              "      <td>137</td>\n",
              "      <td>177</td>\n",
              "      <td>4</td>\n",
              "      <td>0</td>\n",
              "      <td>153</td>\n",
              "      <td>150</td>\n",
              "      <td>152</td>\n",
              "      <td>2</td>\n",
              "      <td>2</td>\n",
              "    </tr>\n",
              "    <tr>\n",
              "      <th>2122</th>\n",
              "      <td>140</td>\n",
              "      <td>0.000775</td>\n",
              "      <td>0.000000</td>\n",
              "      <td>0.006971</td>\n",
              "      <td>0.000000</td>\n",
              "      <td>0.0</td>\n",
              "      <td>0.0</td>\n",
              "      <td>78</td>\n",
              "      <td>0.4</td>\n",
              "      <td>22</td>\n",
              "      <td>...</td>\n",
              "      <td>66</td>\n",
              "      <td>103</td>\n",
              "      <td>169</td>\n",
              "      <td>6</td>\n",
              "      <td>0</td>\n",
              "      <td>152</td>\n",
              "      <td>148</td>\n",
              "      <td>151</td>\n",
              "      <td>3</td>\n",
              "      <td>2</td>\n",
              "    </tr>\n",
              "    <tr>\n",
              "      <th>2123</th>\n",
              "      <td>140</td>\n",
              "      <td>0.000980</td>\n",
              "      <td>0.000000</td>\n",
              "      <td>0.006863</td>\n",
              "      <td>0.000000</td>\n",
              "      <td>0.0</td>\n",
              "      <td>0.0</td>\n",
              "      <td>79</td>\n",
              "      <td>0.4</td>\n",
              "      <td>20</td>\n",
              "      <td>...</td>\n",
              "      <td>67</td>\n",
              "      <td>103</td>\n",
              "      <td>170</td>\n",
              "      <td>5</td>\n",
              "      <td>0</td>\n",
              "      <td>153</td>\n",
              "      <td>148</td>\n",
              "      <td>152</td>\n",
              "      <td>4</td>\n",
              "      <td>2</td>\n",
              "    </tr>\n",
              "    <tr>\n",
              "      <th>2124</th>\n",
              "      <td>140</td>\n",
              "      <td>0.000679</td>\n",
              "      <td>0.000000</td>\n",
              "      <td>0.006110</td>\n",
              "      <td>0.000000</td>\n",
              "      <td>0.0</td>\n",
              "      <td>0.0</td>\n",
              "      <td>78</td>\n",
              "      <td>0.4</td>\n",
              "      <td>27</td>\n",
              "      <td>...</td>\n",
              "      <td>66</td>\n",
              "      <td>103</td>\n",
              "      <td>169</td>\n",
              "      <td>6</td>\n",
              "      <td>0</td>\n",
              "      <td>152</td>\n",
              "      <td>147</td>\n",
              "      <td>151</td>\n",
              "      <td>4</td>\n",
              "      <td>2</td>\n",
              "    </tr>\n",
              "    <tr>\n",
              "      <th>2125</th>\n",
              "      <td>142</td>\n",
              "      <td>0.001616</td>\n",
              "      <td>0.001616</td>\n",
              "      <td>0.008078</td>\n",
              "      <td>0.000000</td>\n",
              "      <td>0.0</td>\n",
              "      <td>0.0</td>\n",
              "      <td>74</td>\n",
              "      <td>0.4</td>\n",
              "      <td>36</td>\n",
              "      <td>...</td>\n",
              "      <td>42</td>\n",
              "      <td>117</td>\n",
              "      <td>159</td>\n",
              "      <td>2</td>\n",
              "      <td>1</td>\n",
              "      <td>145</td>\n",
              "      <td>143</td>\n",
              "      <td>145</td>\n",
              "      <td>1</td>\n",
              "      <td>1</td>\n",
              "    </tr>\n",
              "  </tbody>\n",
              "</table>\n",
              "<p>2126 rows × 21 columns</p>\n",
              "</div>\n",
              "      <button class=\"colab-df-convert\" onclick=\"convertToInteractive('df-8131be85-c11b-41b2-9ce2-3fcca64857bc')\"\n",
              "              title=\"Convert this dataframe to an interactive table.\"\n",
              "              style=\"display:none;\">\n",
              "        \n",
              "  <svg xmlns=\"http://www.w3.org/2000/svg\" height=\"24px\"viewBox=\"0 0 24 24\"\n",
              "       width=\"24px\">\n",
              "    <path d=\"M0 0h24v24H0V0z\" fill=\"none\"/>\n",
              "    <path d=\"M18.56 5.44l.94 2.06.94-2.06 2.06-.94-2.06-.94-.94-2.06-.94 2.06-2.06.94zm-11 1L8.5 8.5l.94-2.06 2.06-.94-2.06-.94L8.5 2.5l-.94 2.06-2.06.94zm10 10l.94 2.06.94-2.06 2.06-.94-2.06-.94-.94-2.06-.94 2.06-2.06.94z\"/><path d=\"M17.41 7.96l-1.37-1.37c-.4-.4-.92-.59-1.43-.59-.52 0-1.04.2-1.43.59L10.3 9.45l-7.72 7.72c-.78.78-.78 2.05 0 2.83L4 21.41c.39.39.9.59 1.41.59.51 0 1.02-.2 1.41-.59l7.78-7.78 2.81-2.81c.8-.78.8-2.07 0-2.86zM5.41 20L4 18.59l7.72-7.72 1.47 1.35L5.41 20z\"/>\n",
              "  </svg>\n",
              "      </button>\n",
              "      \n",
              "  <style>\n",
              "    .colab-df-container {\n",
              "      display:flex;\n",
              "      flex-wrap:wrap;\n",
              "      gap: 12px;\n",
              "    }\n",
              "\n",
              "    .colab-df-convert {\n",
              "      background-color: #E8F0FE;\n",
              "      border: none;\n",
              "      border-radius: 50%;\n",
              "      cursor: pointer;\n",
              "      display: none;\n",
              "      fill: #1967D2;\n",
              "      height: 32px;\n",
              "      padding: 0 0 0 0;\n",
              "      width: 32px;\n",
              "    }\n",
              "\n",
              "    .colab-df-convert:hover {\n",
              "      background-color: #E2EBFA;\n",
              "      box-shadow: 0px 1px 2px rgba(60, 64, 67, 0.3), 0px 1px 3px 1px rgba(60, 64, 67, 0.15);\n",
              "      fill: #174EA6;\n",
              "    }\n",
              "\n",
              "    [theme=dark] .colab-df-convert {\n",
              "      background-color: #3B4455;\n",
              "      fill: #D2E3FC;\n",
              "    }\n",
              "\n",
              "    [theme=dark] .colab-df-convert:hover {\n",
              "      background-color: #434B5C;\n",
              "      box-shadow: 0px 1px 3px 1px rgba(0, 0, 0, 0.15);\n",
              "      filter: drop-shadow(0px 1px 2px rgba(0, 0, 0, 0.3));\n",
              "      fill: #FFFFFF;\n",
              "    }\n",
              "  </style>\n",
              "\n",
              "      <script>\n",
              "        const buttonEl =\n",
              "          document.querySelector('#df-8131be85-c11b-41b2-9ce2-3fcca64857bc button.colab-df-convert');\n",
              "        buttonEl.style.display =\n",
              "          google.colab.kernel.accessAllowed ? 'block' : 'none';\n",
              "\n",
              "        async function convertToInteractive(key) {\n",
              "          const element = document.querySelector('#df-8131be85-c11b-41b2-9ce2-3fcca64857bc');\n",
              "          const dataTable =\n",
              "            await google.colab.kernel.invokeFunction('convertToInteractive',\n",
              "                                                     [key], {});\n",
              "          if (!dataTable) return;\n",
              "\n",
              "          const docLinkHtml = 'Like what you see? Visit the ' +\n",
              "            '<a target=\"_blank\" href=https://colab.research.google.com/notebooks/data_table.ipynb>data table notebook</a>'\n",
              "            + ' to learn more about interactive tables.';\n",
              "          element.innerHTML = '';\n",
              "          dataTable['output_type'] = 'display_data';\n",
              "          await google.colab.output.renderOutput(dataTable, element);\n",
              "          const docLink = document.createElement('div');\n",
              "          docLink.innerHTML = docLinkHtml;\n",
              "          element.appendChild(docLink);\n",
              "        }\n",
              "      </script>\n",
              "    </div>\n",
              "  </div>\n",
              "  "
            ]
          },
          "metadata": {},
          "execution_count": 6
        }
      ]
    },
    {
      "cell_type": "markdown",
      "source": [
        "# Missing Values"
      ],
      "metadata": {
        "id": "o7-xTee17f7S"
      }
    },
    {
      "cell_type": "code",
      "metadata": {
        "colab": {
          "base_uri": "https://localhost:8080/"
        },
        "id": "E_5PB5jypFh4",
        "outputId": "93903387-998d-487d-c660-193952738718"
      },
      "source": [
        "#MISSING VALUES\n",
        "print(cardio_df.isnull().sum())\n",
        "cardio_df.isna().sum()\n",
        "print(cardio_df.info())\n"
      ],
      "execution_count": null,
      "outputs": [
        {
          "output_type": "stream",
          "name": "stdout",
          "text": [
            "LB          0\n",
            "AC          0\n",
            "FM          0\n",
            "UC          0\n",
            "DL          0\n",
            "DS          0\n",
            "DP          0\n",
            "ASTV        0\n",
            "MSTV        0\n",
            "ALTV        0\n",
            "MLTV        0\n",
            "Width       0\n",
            "Min         0\n",
            "Max         0\n",
            "Nmax        0\n",
            "Nzeros      0\n",
            "Mode        0\n",
            "Mean        0\n",
            "Median      0\n",
            "Variance    0\n",
            "TARGET      0\n",
            "dtype: int64\n",
            "<class 'pandas.core.frame.DataFrame'>\n",
            "RangeIndex: 2126 entries, 0 to 2125\n",
            "Data columns (total 21 columns):\n",
            " #   Column    Non-Null Count  Dtype  \n",
            "---  ------    --------------  -----  \n",
            " 0   LB        2126 non-null   int64  \n",
            " 1   AC        2126 non-null   float64\n",
            " 2   FM        2126 non-null   float64\n",
            " 3   UC        2126 non-null   float64\n",
            " 4   DL        2126 non-null   float64\n",
            " 5   DS        2126 non-null   float64\n",
            " 6   DP        2126 non-null   float64\n",
            " 7   ASTV      2126 non-null   int64  \n",
            " 8   MSTV      2126 non-null   float64\n",
            " 9   ALTV      2126 non-null   int64  \n",
            " 10  MLTV      2126 non-null   float64\n",
            " 11  Width     2126 non-null   int64  \n",
            " 12  Min       2126 non-null   int64  \n",
            " 13  Max       2126 non-null   int64  \n",
            " 14  Nmax      2126 non-null   int64  \n",
            " 15  Nzeros    2126 non-null   int64  \n",
            " 16  Mode      2126 non-null   int64  \n",
            " 17  Mean      2126 non-null   int64  \n",
            " 18  Median    2126 non-null   int64  \n",
            " 19  Variance  2126 non-null   int64  \n",
            " 20  TARGET    2126 non-null   int64  \n",
            "dtypes: float64(8), int64(13)\n",
            "memory usage: 348.9 KB\n",
            "None\n"
          ]
        }
      ]
    },
    {
      "cell_type": "code",
      "source": [
        "# Conta i duplicati\n",
        "duplicati = cardio_df.duplicated()\n",
        "np.count_nonzero(duplicati)"
      ],
      "metadata": {
        "id": "Eh_mYnvU_zPq",
        "colab": {
          "base_uri": "https://localhost:8080/"
        },
        "outputId": "4f5b9506-182f-4a9c-b561-10bbb8cc7ca7"
      },
      "execution_count": null,
      "outputs": [
        {
          "output_type": "execute_result",
          "data": {
            "text/plain": [
              "12"
            ]
          },
          "metadata": {},
          "execution_count": 8
        }
      ]
    },
    {
      "cell_type": "markdown",
      "source": [
        "# Distribuzione delle classi\n"
      ],
      "metadata": {
        "id": "meOMh53h7Of3"
      }
    },
    {
      "cell_type": "code",
      "metadata": {
        "colab": {
          "base_uri": "https://localhost:8080/"
        },
        "id": "S64oyEECLQ7n",
        "outputId": "f2d5687c-b221-46d7-b44b-6e810cdf708b"
      },
      "source": [
        "#HISTOGRAM LABEL DISTRIBUTION\n",
        "width = 0.07\n",
        "x=[\"Normal\",\"Pathologic\"]\n",
        "x_pos=[0.1,0.2]\n",
        "y=[class_distribution[1],class_distribution[2]]\n",
        "\n",
        "plt.bar(x_pos, height=y, color=[\"palegreen\", \"salmon\"], width=0.07, tick_label=x)\n",
        "plt.xlim(0,0.3)\n",
        "plt.title(\"Labels distribution\")\n",
        "plt.xticks([0.1,0.2], x)\n",
        "plt.grid(b=None, which='major', axis='both', linestyle='-', linewidth=0.2)\n",
        "\n",
        "plt.show()"
      ],
      "execution_count": null,
      "outputs": [
        {
          "output_type": "display_data",
          "data": {
            "text/plain": [
              "<Figure size 432x288 with 1 Axes>"
            ],
            "image/png": "[encoded data removed]"
          },
          "metadata": {
            "needs_background": "light"
          }
        }
      ]
    },
    {
      "cell_type": "code",
      "source": [
        "print(cardio_df.groupby('TARGET').count())"
      ],
      "metadata": {
        "colab": {
          "base_uri": "https://localhost:8080/"
        },
        "id": "Mq2TzN5CXosN",
        "outputId": "c729209b-8f5a-4139-d565-1e4a5a2ee647"
      },
      "execution_count": null,
      "outputs": [
        {
          "output_type": "stream",
          "name": "stdout",
          "text": [
            "          LB    AC    FM    UC    DL    DS    DP  ASTV  MSTV  ALTV  MLTV  \\\n",
            "TARGET                                                                     \n",
            "1       1655  1655  1655  1655  1655  1655  1655  1655  1655  1655  1655   \n",
            "2        471   471   471   471   471   471   471   471   471   471   471   \n",
            "\n",
            "        Width   Min   Max  Nmax  Nzeros  Mode  Mean  Median  Variance  \n",
            "TARGET                                                                 \n",
            "1        1655  1655  1655  1655    1655  1655  1655    1655      1655  \n",
            "2         471   471   471   471     471   471   471     471       471  \n"
          ]
        }
      ]
    },
    {
      "cell_type": "code",
      "metadata": {
        "id": "yLhgp9RpN81d",
        "colab": {
          "base_uri": "https://localhost:8080/"
        },
        "outputId": "0d648841-5610-4e45-cc56-8b5dcb6cc2b5"
      },
      "source": [
        "#PIE CHART\n",
        "cardio_numpy=cardio_df.to_numpy()\n",
        "labels= 'Normal', 'Pathologic'\n",
        "colors = [\"palegreen\", \"salmon\"]\n",
        "plt.pie([class_distribution[1],class_distribution[2]], labels=labels, colors=colors, autopct='%1.2f%%', wedgeprops={'linewidth':5},)\n",
        "plt.show()"
      ],
      "execution_count": null,
      "outputs": [
        {
          "output_type": "display_data",
          "data": {
            "text/plain": [
              "<Figure size 432x288 with 1 Axes>"
            ],
            "image/png": "[encoded data removed]"
          },
          "metadata": {}
        }
      ]
    },
    {
      "cell_type": "markdown",
      "source": [
        "# Statistiche"
      ],
      "metadata": {
        "id": "ttQ9ztJD70Lk"
      }
    },
    {
      "cell_type": "code",
      "metadata": {
        "id": "4OY1ecroYyJ9"
      },
      "source": [
        "#STATISTICS ABOUT ATTRIBUTES\n",
        "cardio_df_without_target = cardio_df.drop(columns=['TARGET'])\n",
        "statistics = cardio_df_without_target.describe()\n",
        "transpStat = statistics.transpose()\n",
        "transpStat = transpStat.drop(['count'], axis =1)"
      ],
      "execution_count": null,
      "outputs": []
    },
    {
      "cell_type": "code",
      "source": [
        "skew = cardio_df_without_target.skew()\n",
        "kurt = cardio_df_without_target.kurt()\n",
        "transpStat['skewness'] = skew\n",
        "transpStat['kurtosis'] = kurt\n"
      ],
      "metadata": {
        "id": "Kjv1aulq2eEz"
      },
      "execution_count": null,
      "outputs": []
    },
    {
      "cell_type": "code",
      "source": [
        "transpStat"
      ],
      "metadata": {
        "colab": {
          "base_uri": "https://localhost:8080/"
        },
        "id": "cA89O6Ud8VJn",
        "outputId": "aa7f3c7c-d30e-4b8d-c26c-8665fc1c1921"
      },
      "execution_count": null,
      "outputs": [
        {
          "output_type": "execute_result",
          "data": {
            "text/plain": [
              "                mean        std    min         25%         50%         75%  \\\n",
              "LB        133.303857   9.840844  106.0  126.000000  133.000000  140.000000   \n",
              "AC          0.003170   0.003860    0.0    0.000000    0.001630    0.005631   \n",
              "FM          0.009474   0.046670    0.0    0.000000    0.000000    0.002512   \n",
              "UC          0.004357   0.002940    0.0    0.001876    0.004482    0.006525   \n",
              "DL          0.001885   0.002962    0.0    0.000000    0.000000    0.003264   \n",
              "DS          0.000004   0.000063    0.0    0.000000    0.000000    0.000000   \n",
              "DP          0.000157   0.000580    0.0    0.000000    0.000000    0.000000   \n",
              "ASTV       46.990122  17.192814   12.0   32.000000   49.000000   61.000000   \n",
              "MSTV        1.332785   0.883241    0.2    0.700000    1.200000    1.700000   \n",
              "ALTV        9.846660  18.396880    0.0    0.000000    0.000000   11.000000   \n",
              "MLTV        8.187629   5.628247    0.0    4.600000    7.400000   10.800000   \n",
              "Width      70.445908  38.955693    3.0   37.000000   67.500000  100.000000   \n",
              "Min        93.579492  29.560212   50.0   67.000000   93.000000  120.000000   \n",
              "Max       164.025400  17.944183  122.0  152.000000  162.000000  174.000000   \n",
              "Nmax        4.068203   2.949386    0.0    2.000000    3.000000    6.000000   \n",
              "Nzeros      0.323612   0.706059    0.0    0.000000    0.000000    0.000000   \n",
              "Mode      137.452023  16.381289   60.0  129.000000  139.000000  148.000000   \n",
              "Mean      134.610536  15.593596   73.0  125.000000  136.000000  145.000000   \n",
              "Median    138.090310  14.466589   77.0  129.000000  139.000000  148.000000   \n",
              "Variance   18.808090  28.977636    0.0    2.000000    7.000000   24.000000   \n",
              "\n",
              "                 max   skewness    kurtosis  \n",
              "LB        160.000000   0.020312   -0.292943  \n",
              "AC          0.019284   1.210085    0.784374  \n",
              "FM          0.480634   7.812157   64.266963  \n",
              "UC          0.014925   0.156377   -0.649461  \n",
              "DL          0.015385   1.721570    2.506369  \n",
              "DS          0.001353  17.811702  321.084735  \n",
              "DP          0.005348   4.278801   20.077857  \n",
              "ASTV       87.000000  -0.011829   -1.051030  \n",
              "MSTV        7.000000   1.657339    4.700756  \n",
              "ALTV       91.000000   2.195075    4.252998  \n",
              "MLTV       50.700000   1.331998    4.131254  \n",
              "Width     180.000000   0.314235   -0.902287  \n",
              "Min       159.000000   0.115784   -1.290422  \n",
              "Max       238.000000   0.577862    0.632769  \n",
              "Nmax       18.000000   0.892886    0.504211  \n",
              "Nzeros     10.000000   3.920287   30.365084  \n",
              "Mode      187.000000  -0.995178    3.009531  \n",
              "Mean      182.000000  -0.651019    0.933427  \n",
              "Median    186.000000  -0.478414    0.667259  \n",
              "Variance  269.000000   3.219974   15.131589  "
            ],
            "text/html": [
              "\n",
              "  <div id=\"df-598ae5ee-a841-47bc-9436-f986f3d90e4d\">\n",
              "    <div class=\"colab-df-container\">\n",
              "      <div>\n",
              "<style scoped>\n",
              "    .dataframe tbody tr th:only-of-type {\n",
              "        vertical-align: middle;\n",
              "    }\n",
              "\n",
              "    .dataframe tbody tr th {\n",
              "        vertical-align: top;\n",
              "    }\n",
              "\n",
              "    .dataframe thead th {\n",
              "        text-align: right;\n",
              "    }\n",
              "</style>\n",
              "<table border=\"1\" class=\"dataframe\">\n",
              "  <thead>\n",
              "    <tr style=\"text-align: right;\">\n",
              "      <th></th>\n",
              "      <th>mean</th>\n",
              "      <th>std</th>\n",
              "      <th>min</th>\n",
              "      <th>25%</th>\n",
              "      <th>50%</th>\n",
              "      <th>75%</th>\n",
              "      <th>max</th>\n",
              "      <th>skewness</th>\n",
              "      <th>kurtosis</th>\n",
              "    </tr>\n",
              "  </thead>\n",
              "  <tbody>\n",
              "    <tr>\n",
              "      <th>LB</th>\n",
              "      <td>133.303857</td>\n",
              "      <td>9.840844</td>\n",
              "      <td>106.0</td>\n",
              "      <td>126.000000</td>\n",
              "      <td>133.000000</td>\n",
              "      <td>140.000000</td>\n",
              "      <td>160.000000</td>\n",
              "      <td>0.020312</td>\n",
              "      <td>-0.292943</td>\n",
              "    </tr>\n",
              "    <tr>\n",
              "      <th>AC</th>\n",
              "      <td>0.003170</td>\n",
              "      <td>0.003860</td>\n",
              "      <td>0.0</td>\n",
              "      <td>0.000000</td>\n",
              "      <td>0.001630</td>\n",
              "      <td>0.005631</td>\n",
              "      <td>0.019284</td>\n",
              "      <td>1.210085</td>\n",
              "      <td>0.784374</td>\n",
              "    </tr>\n",
              "    <tr>\n",
              "      <th>FM</th>\n",
              "      <td>0.009474</td>\n",
              "      <td>0.046670</td>\n",
              "      <td>0.0</td>\n",
              "      <td>0.000000</td>\n",
              "      <td>0.000000</td>\n",
              "      <td>0.002512</td>\n",
              "      <td>0.480634</td>\n",
              "      <td>7.812157</td>\n",
              "      <td>64.266963</td>\n",
              "    </tr>\n",
              "    <tr>\n",
              "      <th>UC</th>\n",
              "      <td>0.004357</td>\n",
              "      <td>0.002940</td>\n",
              "      <td>0.0</td>\n",
              "      <td>0.001876</td>\n",
              "      <td>0.004482</td>\n",
              "      <td>0.006525</td>\n",
              "      <td>0.014925</td>\n",
              "      <td>0.156377</td>\n",
              "      <td>-0.649461</td>\n",
              "    </tr>\n",
              "    <tr>\n",
              "      <th>DL</th>\n",
              "      <td>0.001885</td>\n",
              "      <td>0.002962</td>\n",
              "      <td>0.0</td>\n",
              "      <td>0.000000</td>\n",
              "      <td>0.000000</td>\n",
              "      <td>0.003264</td>\n",
              "      <td>0.015385</td>\n",
              "      <td>1.721570</td>\n",
              "      <td>2.506369</td>\n",
              "    </tr>\n",
              "    <tr>\n",
              "      <th>DS</th>\n",
              "      <td>0.000004</td>\n",
              "      <td>0.000063</td>\n",
              "      <td>0.0</td>\n",
              "      <td>0.000000</td>\n",
              "      <td>0.000000</td>\n",
              "      <td>0.000000</td>\n",
              "      <td>0.001353</td>\n",
              "      <td>17.811702</td>\n",
              "      <td>321.084735</td>\n",
              "    </tr>\n",
              "    <tr>\n",
              "      <th>DP</th>\n",
              "      <td>0.000157</td>\n",
              "      <td>0.000580</td>\n",
              "      <td>0.0</td>\n",
              "      <td>0.000000</td>\n",
              "      <td>0.000000</td>\n",
              "      <td>0.000000</td>\n",
              "      <td>0.005348</td>\n",
              "      <td>4.278801</td>\n",
              "      <td>20.077857</td>\n",
              "    </tr>\n",
              "    <tr>\n",
              "      <th>ASTV</th>\n",
              "      <td>46.990122</td>\n",
              "      <td>17.192814</td>\n",
              "      <td>12.0</td>\n",
              "      <td>32.000000</td>\n",
              "      <td>49.000000</td>\n",
              "      <td>61.000000</td>\n",
              "      <td>87.000000</td>\n",
              "      <td>-0.011829</td>\n",
              "      <td>-1.051030</td>\n",
              "    </tr>\n",
              "    <tr>\n",
              "      <th>MSTV</th>\n",
              "      <td>1.332785</td>\n",
              "      <td>0.883241</td>\n",
              "      <td>0.2</td>\n",
              "      <td>0.700000</td>\n",
              "      <td>1.200000</td>\n",
              "      <td>1.700000</td>\n",
              "      <td>7.000000</td>\n",
              "      <td>1.657339</td>\n",
              "      <td>4.700756</td>\n",
              "    </tr>\n",
              "    <tr>\n",
              "      <th>ALTV</th>\n",
              "      <td>9.846660</td>\n",
              "      <td>18.396880</td>\n",
              "      <td>0.0</td>\n",
              "      <td>0.000000</td>\n",
              "      <td>0.000000</td>\n",
              "      <td>11.000000</td>\n",
              "      <td>91.000000</td>\n",
              "      <td>2.195075</td>\n",
              "      <td>4.252998</td>\n",
              "    </tr>\n",
              "    <tr>\n",
              "      <th>MLTV</th>\n",
              "      <td>8.187629</td>\n",
              "      <td>5.628247</td>\n",
              "      <td>0.0</td>\n",
              "      <td>4.600000</td>\n",
              "      <td>7.400000</td>\n",
              "      <td>10.800000</td>\n",
              "      <td>50.700000</td>\n",
              "      <td>1.331998</td>\n",
              "      <td>4.131254</td>\n",
              "    </tr>\n",
              "    <tr>\n",
              "      <th>Width</th>\n",
              "      <td>70.445908</td>\n",
              "      <td>38.955693</td>\n",
              "      <td>3.0</td>\n",
              "      <td>37.000000</td>\n",
              "      <td>67.500000</td>\n",
              "      <td>100.000000</td>\n",
              "      <td>180.000000</td>\n",
              "      <td>0.314235</td>\n",
              "      <td>-0.902287</td>\n",
              "    </tr>\n",
              "    <tr>\n",
              "      <th>Min</th>\n",
              "      <td>93.579492</td>\n",
              "      <td>29.560212</td>\n",
              "      <td>50.0</td>\n",
              "      <td>67.000000</td>\n",
              "      <td>93.000000</td>\n",
              "      <td>120.000000</td>\n",
              "      <td>159.000000</td>\n",
              "      <td>0.115784</td>\n",
              "      <td>-1.290422</td>\n",
              "    </tr>\n",
              "    <tr>\n",
              "      <th>Max</th>\n",
              "      <td>164.025400</td>\n",
              "      <td>17.944183</td>\n",
              "      <td>122.0</td>\n",
              "      <td>152.000000</td>\n",
              "      <td>162.000000</td>\n",
              "      <td>174.000000</td>\n",
              "      <td>238.000000</td>\n",
              "      <td>0.577862</td>\n",
              "      <td>0.632769</td>\n",
              "    </tr>\n",
              "    <tr>\n",
              "      <th>Nmax</th>\n",
              "      <td>4.068203</td>\n",
              "      <td>2.949386</td>\n",
              "      <td>0.0</td>\n",
              "      <td>2.000000</td>\n",
              "      <td>3.000000</td>\n",
              "      <td>6.000000</td>\n",
              "      <td>18.000000</td>\n",
              "      <td>0.892886</td>\n",
              "      <td>0.504211</td>\n",
              "    </tr>\n",
              "    <tr>\n",
              "      <th>Nzeros</th>\n",
              "      <td>0.323612</td>\n",
              "      <td>0.706059</td>\n",
              "      <td>0.0</td>\n",
              "      <td>0.000000</td>\n",
              "      <td>0.000000</td>\n",
              "      <td>0.000000</td>\n",
              "      <td>10.000000</td>\n",
              "      <td>3.920287</td>\n",
              "      <td>30.365084</td>\n",
              "    </tr>\n",
              "    <tr>\n",
              "      <th>Mode</th>\n",
              "      <td>137.452023</td>\n",
              "      <td>16.381289</td>\n",
              "      <td>60.0</td>\n",
              "      <td>129.000000</td>\n",
              "      <td>139.000000</td>\n",
              "      <td>148.000000</td>\n",
              "      <td>187.000000</td>\n",
              "      <td>-0.995178</td>\n",
              "      <td>3.009531</td>\n",
              "    </tr>\n",
              "    <tr>\n",
              "      <th>Mean</th>\n",
              "      <td>134.610536</td>\n",
              "      <td>15.593596</td>\n",
              "      <td>73.0</td>\n",
              "      <td>125.000000</td>\n",
              "      <td>136.000000</td>\n",
              "      <td>145.000000</td>\n",
              "      <td>182.000000</td>\n",
              "      <td>-0.651019</td>\n",
              "      <td>0.933427</td>\n",
              "    </tr>\n",
              "    <tr>\n",
              "      <th>Median</th>\n",
              "      <td>138.090310</td>\n",
              "      <td>14.466589</td>\n",
              "      <td>77.0</td>\n",
              "      <td>129.000000</td>\n",
              "      <td>139.000000</td>\n",
              "      <td>148.000000</td>\n",
              "      <td>186.000000</td>\n",
              "      <td>-0.478414</td>\n",
              "      <td>0.667259</td>\n",
              "    </tr>\n",
              "    <tr>\n",
              "      <th>Variance</th>\n",
              "      <td>18.808090</td>\n",
              "      <td>28.977636</td>\n",
              "      <td>0.0</td>\n",
              "      <td>2.000000</td>\n",
              "      <td>7.000000</td>\n",
              "      <td>24.000000</td>\n",
              "      <td>269.000000</td>\n",
              "      <td>3.219974</td>\n",
              "      <td>15.131589</td>\n",
              "    </tr>\n",
              "  </tbody>\n",
              "</table>\n",
              "</div>\n",
              "      <button class=\"colab-df-convert\" onclick=\"convertToInteractive('df-598ae5ee-a841-47bc-9436-f986f3d90e4d')\"\n",
              "              title=\"Convert this dataframe to an interactive table.\"\n",
              "              style=\"display:none;\">\n",
              "        \n",
              "  <svg xmlns=\"http://www.w3.org/2000/svg\" height=\"24px\"viewBox=\"0 0 24 24\"\n",
              "       width=\"24px\">\n",
              "    <path d=\"M0 0h24v24H0V0z\" fill=\"none\"/>\n",
              "    <path d=\"M18.56 5.44l.94 2.06.94-2.06 2.06-.94-2.06-.94-.94-2.06-.94 2.06-2.06.94zm-11 1L8.5 8.5l.94-2.06 2.06-.94-2.06-.94L8.5 2.5l-.94 2.06-2.06.94zm10 10l.94 2.06.94-2.06 2.06-.94-2.06-.94-.94-2.06-.94 2.06-2.06.94z\"/><path d=\"M17.41 7.96l-1.37-1.37c-.4-.4-.92-.59-1.43-.59-.52 0-1.04.2-1.43.59L10.3 9.45l-7.72 7.72c-.78.78-.78 2.05 0 2.83L4 21.41c.39.39.9.59 1.41.59.51 0 1.02-.2 1.41-.59l7.78-7.78 2.81-2.81c.8-.78.8-2.07 0-2.86zM5.41 20L4 18.59l7.72-7.72 1.47 1.35L5.41 20z\"/>\n",
              "  </svg>\n",
              "      </button>\n",
              "      \n",
              "  <style>\n",
              "    .colab-df-container {\n",
              "      display:flex;\n",
              "      flex-wrap:wrap;\n",
              "      gap: 12px;\n",
              "    }\n",
              "\n",
              "    .colab-df-convert {\n",
              "      background-color: #E8F0FE;\n",
              "      border: none;\n",
              "      border-radius: 50%;\n",
              "      cursor: pointer;\n",
              "      display: none;\n",
              "      fill: #1967D2;\n",
              "      height: 32px;\n",
              "      padding: 0 0 0 0;\n",
              "      width: 32px;\n",
              "    }\n",
              "\n",
              "    .colab-df-convert:hover {\n",
              "      background-color: #E2EBFA;\n",
              "      box-shadow: 0px 1px 2px rgba(60, 64, 67, 0.3), 0px 1px 3px 1px rgba(60, 64, 67, 0.15);\n",
              "      fill: #174EA6;\n",
              "    }\n",
              "\n",
              "    [theme=dark] .colab-df-convert {\n",
              "      background-color: #3B4455;\n",
              "      fill: #D2E3FC;\n",
              "    }\n",
              "\n",
              "    [theme=dark] .colab-df-convert:hover {\n",
              "      background-color: #434B5C;\n",
              "      box-shadow: 0px 1px 3px 1px rgba(0, 0, 0, 0.15);\n",
              "      filter: drop-shadow(0px 1px 2px rgba(0, 0, 0, 0.3));\n",
              "      fill: #FFFFFF;\n",
              "    }\n",
              "  </style>\n",
              "\n",
              "      <script>\n",
              "        const buttonEl =\n",
              "          document.querySelector('#df-598ae5ee-a841-47bc-9436-f986f3d90e4d button.colab-df-convert');\n",
              "        buttonEl.style.display =\n",
              "          google.colab.kernel.accessAllowed ? 'block' : 'none';\n",
              "\n",
              "        async function convertToInteractive(key) {\n",
              "          const element = document.querySelector('#df-598ae5ee-a841-47bc-9436-f986f3d90e4d');\n",
              "          const dataTable =\n",
              "            await google.colab.kernel.invokeFunction('convertToInteractive',\n",
              "                                                     [key], {});\n",
              "          if (!dataTable) return;\n",
              "\n",
              "          const docLinkHtml = 'Like what you see? Visit the ' +\n",
              "            '<a target=\"_blank\" href=https://colab.research.google.com/notebooks/data_table.ipynb>data table notebook</a>'\n",
              "            + ' to learn more about interactive tables.';\n",
              "          element.innerHTML = '';\n",
              "          dataTable['output_type'] = 'display_data';\n",
              "          await google.colab.output.renderOutput(dataTable, element);\n",
              "          const docLink = document.createElement('div');\n",
              "          docLink.innerHTML = docLinkHtml;\n",
              "          element.appendChild(docLink);\n",
              "        }\n",
              "      </script>\n",
              "    </div>\n",
              "  </div>\n",
              "  "
            ]
          },
          "metadata": {},
          "execution_count": 14
        }
      ]
    },
    {
      "cell_type": "code",
      "metadata": {
        "id": "RUPaAnYvevjr"
      },
      "source": [
        "#target=cardio_df[\"TARGET\"].to_numpy()\n",
        "#target"
      ],
      "execution_count": null,
      "outputs": []
    },
    {
      "cell_type": "markdown",
      "source": [
        "# BoxPlot per vedere la distribuzione di tutte le feature"
      ],
      "metadata": {
        "id": "B_JkwCgN8HHE"
      }
    },
    {
      "cell_type": "code",
      "metadata": {
        "id": "at4ER1MKY0bn",
        "colab": {
          "base_uri": "https://localhost:8080/"
        },
        "outputId": "a3956c3b-4f93-42c4-cfbd-7956a1984f6a"
      },
      "source": [
        "#BOXPLOT non Normalizzato\n",
        "\n",
        "x_ticks_labels=['LB','AC','FM','UC','DL','DS','DP','ASTV','MSTV','ALTV','MLTV','Width','Min','Max','Nmax','Nzeros','Mode','Mean','Median','Variance']\n",
        "plt.figure()\n",
        "\n",
        "cardiosc=np.array(cardio_df_without_target)\n",
        "\n",
        "mean_labels=[]\n",
        "\n",
        "fig=plt.figure(1, figsize=(20,15))\n",
        "fig.set_size_inches(15, 10)\n",
        "ax=fig.add_subplot(111)\n",
        "sns.boxplot(data=cardiosc[:,:], orient='v')\n",
        "plt.xticks(np.arange(0,21), labels=x_ticks_labels, rotation=25, fontsize=10)  \n",
        "plt.yticks(fontsize=10)\n",
        "plt.title('Boxplot of the \"standard error\" attributes', fontsize= 10)\n",
        "\n",
        "plt.show()\n"
      ],
      "execution_count": null,
      "outputs": [
        {
          "output_type": "display_data",
          "data": {
            "text/plain": [
              "<Figure size 1080x720 with 1 Axes>"
            ],
            "image/png": "[encoded data removed]"
          },
          "metadata": {
            "needs_background": "light"
          }
        }
      ]
    },
    {
      "cell_type": "code",
      "metadata": {
        "colab": {
          "base_uri": "https://localhost:8080/"
        },
        "outputId": "7b701b30-3a87-4714-cb78-5f3e4827ace7",
        "id": "ahGbzudQnxwR"
      },
      "source": [
        "#BOXPLOT Normalizzato\n",
        "\n",
        "x_ticks_labels=['LB','AC','FM','UC','DL','DS','DP','ASTV','MSTV','ALTV','MLTV','Width','Min','Max','Nmax','Nzeros','Mode','Mean','Median','Variance']\n",
        "plt.figure()\n",
        "\n",
        "#columns=cancer.feature_names\n",
        "scaler = StandardScaler()\n",
        "cardiosc=scaler.fit_transform(cardio_df_without_target)\n",
        "\n",
        "mean_labels=[]\n",
        "\n",
        "fig=plt.figure(1, figsize=(20,15))\n",
        "fig.set_size_inches(15, 10)\n",
        "ax=fig.add_subplot(111)\n",
        "sns.boxplot(data=cardiosc[:,:], orient='v')\n",
        "plt.xticks(np.arange(0,21), labels=x_ticks_labels, rotation=25, fontsize=10)  \n",
        "plt.yticks(fontsize=10)\n",
        "plt.title('Boxplot of the \"standard error\" attributes', fontsize= 10)\n",
        "\n",
        "plt.show()\n"
      ],
      "execution_count": null,
      "outputs": [
        {
          "output_type": "display_data",
          "data": {
            "text/plain": [
              "<Figure size 1080x720 with 1 Axes>"
            ],
            "image/png": "[encoded data removed]"
          },
          "metadata": {
            "needs_background": "light"
          }
        }
      ]
    },
    {
      "cell_type": "markdown",
      "source": [
        "# Outliers"
      ],
      "metadata": {
        "id": "9N1s4B6pIGcv"
      }
    },
    {
      "cell_type": "code",
      "source": [
        "cardio_df_out = cardio_df.copy()\n",
        "clf=IsolationForest(n_estimators=100, max_samples='auto', contamination=float(.05), \\\n",
        "                        max_features=1.0, bootstrap=False, n_jobs=-1, random_state=42, verbose=0)\n",
        "clf.fit(cardio_df_out)\n",
        "pred = clf.predict(cardio_df_out)\n",
        "cardio_df_out['anomaly']=pred\n",
        "outliers=cardio_df_out.loc[cardio_df_out['anomaly']==-1]\n",
        "outlier_index=list(outliers.index)\n",
        "\n",
        "#Find the number of anomalies and normal points here points classified -1 are anomalous\n",
        "print(cardio_df_out['anomaly'].value_counts())"
      ],
      "metadata": {
        "colab": {
          "base_uri": "https://localhost:8080/"
        },
        "id": "zuB4rT9KQkmd",
        "outputId": "280768d9-667e-412a-8626-528d2568aa38"
      },
      "execution_count": null,
      "outputs": [
        {
          "output_type": "stream",
          "name": "stderr",
          "text": [
            "/usr/local/lib/python3.7/dist-packages/sklearn/base.py:451: UserWarning: X does not have valid feature names, but IsolationForest was fitted with feature names\n",
            "  \"X does not have valid feature names, but\"\n"
          ]
        },
        {
          "output_type": "stream",
          "name": "stdout",
          "text": [
            " 1    2019\n",
            "-1     107\n",
            "Name: anomaly, dtype: int64\n"
          ]
        }
      ]
    },
    {
      "cell_type": "code",
      "source": [
        "scores = clf.score_samples(cardio_df)\n",
        "scores = scores*-1\n",
        "cardio_df_s = cardio_df.copy()\n",
        "cardio_df_s['score'] = scores\n",
        "\n",
        "palette = [\"salmon\",\"palegreen\"]\n",
        "f = plt.figure()\n",
        "#sns.displot(cardio_df_s, x='score', hue=\"TARGET\", kind=\"kde\", fill=True, palette=palette, alpha=0.7, hue_order=[2,1], legend = False)\n",
        "sns.displot(data=cardio_df_s, x=\"score\", hue = \"TARGET\", kde=True, palette = palette,\n",
        "            line_kws={'lw': 3}, hue_order=[2,1], legend = False)\n",
        "#sns.kdeplot(data=cardio_df_s, x='score',multiple=\"stack\", hue=\"TARGET\", palette=palette, alpha = 0.4)\n",
        "plt.legend(labels=['Normal','Pathologic'])\n",
        "plt.show()"
      ],
      "metadata": {
        "colab": {
          "base_uri": "https://localhost:8080/"
        },
        "id": "JqGzeiI2FJjz",
        "outputId": "58d31474-c0df-45a0-835a-0e44caa06369"
      },
      "execution_count": null,
      "outputs": [
        {
          "output_type": "display_data",
          "data": {
            "text/plain": [
              "<Figure size 432x288 with 0 Axes>"
            ]
          },
          "metadata": {}
        },
        {
          "output_type": "display_data",
          "data": {
            "text/plain": [
              "<Figure size 360x360 with 1 Axes>"
            ],
            "image/png": "[encoded data removed]"
          },
          "metadata": {
            "needs_background": "light"
          }
        }
      ]
    },
    {
      "cell_type": "code",
      "source": [
        "print(cardio_df_out.groupby(['TARGET','anomaly']).count()['LB'])"
      ],
      "metadata": {
        "colab": {
          "base_uri": "https://localhost:8080/"
        },
        "id": "DL56gvCKnTGy",
        "outputId": "8de6395e-39ba-4974-a09e-f40bfe4fc72f"
      },
      "execution_count": null,
      "outputs": [
        {
          "output_type": "stream",
          "name": "stdout",
          "text": [
            "TARGET  anomaly\n",
            "1       -1           27\n",
            "         1         1628\n",
            "2       -1           80\n",
            "         1          391\n",
            "Name: LB, dtype: int64\n"
          ]
        }
      ]
    },
    {
      "cell_type": "code",
      "source": [
        "outNorm = cardio_df_out.groupby(['TARGET','anomaly']).count()['LB'].iloc[0]\n",
        "inNorm = cardio_df_out.groupby(['TARGET','anomaly']).count()['LB'].iloc[1]\n",
        "outPat = cardio_df_out.groupby(['TARGET','anomaly']).count()['LB'].iloc[2]\n",
        "inPat = cardio_df_out.groupby(['TARGET','anomaly']).count()['LB'].iloc[3]\n",
        "percNorm = outNorm/inNorm*100\n",
        "percPat = outPat/inPat*100\n",
        "print(\"Percentage of outliers in the normal class: \",'{0:.3}'.format(percNorm),\"%\")\n",
        "print(\"Percentage of outliers in the pathologic class: \",'{0:.3}'.format(percPat),\"%\")"
      ],
      "metadata": {
        "colab": {
          "base_uri": "https://localhost:8080/"
        },
        "id": "2C5ucuNFnQ6u",
        "outputId": "de631958-de72-47d4-cd1d-bbc627f4f4b0"
      },
      "execution_count": null,
      "outputs": [
        {
          "output_type": "stream",
          "name": "stdout",
          "text": [
            "Percentage of outliers in the normal class:  1.66 %\n",
            "Percentage of outliers in the pathologic class:  20.5 %\n"
          ]
        }
      ]
    },
    {
      "cell_type": "code",
      "source": [
        "data=[[\"Normal\",outNorm,inNorm,outNorm+inNorm],\n",
        "      [\"Pathologic\",outPat,inPat,outPat+inPat]]\n",
        "\n",
        "df=pd.DataFrame(data,columns=[\"Target\",\"Outliers\",\"NotOutliers\",\"Total\"])\n",
        "df.plot(x=\"Target\", y=[\"Outliers\",\"NotOutliers\",\"Total\"], kind=\"bar\",figsize=(9,8), colormap=\"Spectral\")\n",
        "plt.show()"
      ],
      "metadata": {
        "colab": {
          "base_uri": "https://localhost:8080/"
        },
        "id": "_vlLq2lgFbYk",
        "outputId": "cd5756f0-c302-4a42-ff01-6bae1005ff12"
      },
      "execution_count": null,
      "outputs": [
        {
          "output_type": "display_data",
          "data": {
            "text/plain": [
              "<Figure size 648x576 with 1 Axes>"
            ],
            "image/png": "[encoded data removed]"
          },
          "metadata": {
            "needs_background": "light"
          }
        }
      ]
    },
    {
      "cell_type": "markdown",
      "source": [
        "RICERCA OUTLIERS NEL MODO VECHIO --> DA NON GUARDARE"
      ],
      "metadata": {
        "id": "UvObmQdBEHVP"
      }
    },
    {
      "cell_type": "code",
      "source": [
        "# Ricerca Outliers vecchio modo\n",
        "\n",
        "'''\n",
        "iforest = IsolationForest(n_estimators = 100).fit(cardio_df)\n",
        "scores = iforest.score_samples(cardio_df)\n",
        "cardio_df_s = cardio_df.copy()\n",
        "cardio_df_s['score'] = scores\n",
        "'''"
      ],
      "metadata": {
        "id": "cCrx_CcjIC8d",
        "colab": {
          "base_uri": "https://localhost:8080/"
        },
        "outputId": "05fab91d-725e-4b79-e0bc-82daeeb64313"
      },
      "execution_count": null,
      "outputs": [
        {
          "output_type": "execute_result",
          "data": {
            "text/plain": [
              "\"\\niforest = IsolationForest(n_estimators = 100).fit(cardio_df)\\nscores = iforest.score_samples(cardio_df)\\ncardio_df_s = cardio_df.copy()\\ncardio_df_s['score'] = scores\\n\""
            ],
            "application/vnd.google.colaboratory.intrinsic+json": {
              "type": "string"
            }
          },
          "metadata": {},
          "execution_count": 23
        }
      ]
    },
    {
      "cell_type": "code",
      "source": [
        "'''\n",
        "palette = [\"red\",\"blue\"]\n",
        "f = plt.figure()\n",
        "sns.displot(cardio_df_s, x='score', hue=\"TARGET\", kind=\"kde\", fill=True, palette=palette)\n",
        "plt.show()\n",
        "'''"
      ],
      "metadata": {
        "colab": {
          "base_uri": "https://localhost:8080/"
        },
        "id": "qHPpbztqNwoX",
        "outputId": "75f44f33-2072-43df-abe0-5c2b1661eca8"
      },
      "execution_count": null,
      "outputs": [
        {
          "output_type": "execute_result",
          "data": {
            "text/plain": [
              "'\\npalette = [\"red\",\"blue\"]\\nf = plt.figure()\\nsns.displot(cardio_df_s, x=\\'score\\', hue=\"TARGET\", kind=\"kde\", fill=True, palette=palette)\\nplt.show()\\n'"
            ],
            "application/vnd.google.colaboratory.intrinsic+json": {
              "type": "string"
            }
          },
          "metadata": {},
          "execution_count": 24
        }
      ]
    },
    {
      "cell_type": "code",
      "source": [
        "'''\n",
        "toDrop = iforest.predict(cardio_df)\n",
        "f = plt.figure()\n",
        "sns.displot(toDrop,kind = \"kde\", fill = True)\n",
        "plt.show()\n",
        "out = (toDrop == -1).sum()\n",
        "inlier = (toDrop ==1).sum()\n",
        "\n",
        "print(out)\n",
        "print(inlier)\n",
        "print(out+inlier)\n",
        "'''"
      ],
      "metadata": {
        "colab": {
          "base_uri": "https://localhost:8080/"
        },
        "id": "iN2Fr9wOQ4dk",
        "outputId": "5b5f5815-814c-4385-91cf-4392d450cc5b"
      },
      "execution_count": null,
      "outputs": [
        {
          "output_type": "execute_result",
          "data": {
            "text/plain": [
              "'\\ntoDrop = iforest.predict(cardio_df)\\nf = plt.figure()\\nsns.displot(toDrop,kind = \"kde\", fill = True)\\nplt.show()\\nout = (toDrop == -1).sum()\\ninlier = (toDrop ==1).sum()\\n\\nprint(out)\\nprint(inlier)\\nprint(out+inlier)\\n'"
            ],
            "application/vnd.google.colaboratory.intrinsic+json": {
              "type": "string"
            }
          },
          "metadata": {},
          "execution_count": 25
        }
      ]
    },
    {
      "cell_type": "code",
      "source": [
        "#cardio_df_s['toDrop'] = toDrop\n",
        "'''\n",
        "palette = [\"yellow\",\"green\"]\n",
        "f = plt.figure()\n",
        "sns.displot(cardio_df_s, x='toDrop', hue=\"NSP\", kind=\"kde\", fill=True, palette=palette)\n",
        "plt.show()\n",
        "'''"
      ],
      "metadata": {
        "colab": {
          "base_uri": "https://localhost:8080/"
        },
        "id": "tsE3V6nLST0A",
        "outputId": "829d1754-dd9c-43ba-9d97-bd5d40567316"
      },
      "execution_count": null,
      "outputs": [
        {
          "output_type": "execute_result",
          "data": {
            "text/plain": [
              "'\\npalette = [\"yellow\",\"green\"]\\nf = plt.figure()\\nsns.displot(cardio_df_s, x=\\'toDrop\\', hue=\"NSP\", kind=\"kde\", fill=True, palette=palette)\\nplt.show()\\n'"
            ],
            "application/vnd.google.colaboratory.intrinsic+json": {
              "type": "string"
            }
          },
          "metadata": {},
          "execution_count": 26
        }
      ]
    },
    {
      "cell_type": "code",
      "source": [
        "# divisione nelle due classi --> 1655 normali, 471 malati\n",
        "\n",
        "#print(cardio_df_s.groupby('NSP').count())\n",
        "\n",
        "# divisione di quelli che sono considerati outlier nelle due classi:\n",
        "\n",
        "#print(cardio_df_s.groupby(['NSP','toDrop']).count())\n",
        "\n",
        "# 94 (su 1655) 5,7% e 175 (su 471) 37,2 % --> decisamente un numero molto superiore\n",
        "# trovato tra la classe dei malati, che già è under rappresentata --> non si tolgono, \n",
        "#potrebbero darci informazioni importanti per identificare proprio la malattia.\n",
        "# Per esempio, quando abbiamo LB fuori dal range solito è sintomo di feti prematuri \n",
        "#quindi chiaramente un'informazione che NON vogliamo eliminare"
      ],
      "metadata": {
        "id": "dEMgRoDG_65R"
      },
      "execution_count": null,
      "outputs": []
    },
    {
      "cell_type": "markdown",
      "source": [
        "# Scatter Interaction per vedere le due classi nello spazio"
      ],
      "metadata": {
        "id": "NpZpFMFW74cA"
      }
    },
    {
      "cell_type": "code",
      "metadata": {
        "colab": {
          "base_uri": "https://localhost:8080/"
        },
        "id": "YsBbLbxjaVAr",
        "outputId": "56cca5b0-c9c7-4f8d-be90-90b71d460ebb"
      },
      "source": [
        "#SCATTER INTERACTION\n",
        "\n",
        "X= cardio_df_without_target['ASTV'].to_numpy()  \n",
        "Y=cardio_df_without_target['DL'].to_numpy()\n",
        "\n",
        "target=cardio_df[\"TARGET\"].to_numpy()\n",
        "\n",
        "\n",
        "fig, ax = plt.subplots(figsize= (15,6))\n",
        "\n",
        "labels=['Normal', 'Pathologic']\n",
        "#labels=['Pathologic', 'Normal']\n",
        "#pop_a = mpatches.Patch(color='steelblue', label='Normal')\n",
        "#pop_b = mpatches.Patch(color='crimson', label='Pathologic')\n",
        "colors=['palegreen','salmon']\n",
        "\n",
        "\n",
        "ax.scatter(X, Y, c=target, cmap=matplotlib.colors.ListedColormap(colors), label=labels)\n",
        "ax.grid()\n",
        "ax.set_xlabel('X')\n",
        "ax.set_ylabel('Y')\n",
        "\n",
        "\n",
        "plt.tight_layout()# let's make good plots\n",
        "plt.show()\n"
      ],
      "execution_count": null,
      "outputs": [
        {
          "output_type": "display_data",
          "data": {
            "text/plain": [
              "<Figure size 1080x432 with 1 Axes>"
            ],
            "image/png": "[encoded data removed]"
          },
          "metadata": {
            "needs_background": "light"
          }
        }
      ]
    },
    {
      "cell_type": "markdown",
      "source": [
        "# Divisione delle due classi e Feature Distribution"
      ],
      "metadata": {
        "id": "z67yhs1g7ZnG"
      }
    },
    {
      "cell_type": "code",
      "metadata": {
        "id": "fzY8S0iweizA"
      },
      "source": [
        "#SPLIT INTO DIFFERENT DATAFRAME ACCORDING TO CLASS\n",
        "datasets= {}\n",
        "cardio_by_class = cardio_df.groupby(\"TARGET\")\n",
        "cardio_by_class\n",
        "\n",
        "for groups, data in cardio_by_class: #qui groups sono 1 e 2.\n",
        "    datasets[groups] = data #creo un dizionario dove per la classe 1 ho il df dei normali e per la classe 2 quello dei patologici\n",
        "\n",
        "normal_numpy = datasets[1].to_numpy()\n",
        "pathologic_numpy = datasets[2].to_numpy()\n",
        "#pathologic_numpy\n",
        "#datasets"
      ],
      "execution_count": null,
      "outputs": []
    },
    {
      "cell_type": "code",
      "metadata": {
        "colab": {
          "base_uri": "https://localhost:8080/"
        },
        "id": "L5pcUmW9hgK8",
        "outputId": "dcecad6a-b82b-4a3c-ee72-7e3d8667644e"
      },
      "source": [
        "cardio_numpy[:,0]"
      ],
      "execution_count": null,
      "outputs": [
        {
          "output_type": "execute_result",
          "data": {
            "text/plain": [
              "array([120., 132., 133., ..., 140., 140., 142.])"
            ]
          },
          "metadata": {},
          "execution_count": 30
        }
      ]
    },
    {
      "cell_type": "code",
      "metadata": {
        "colab": {
          "base_uri": "https://localhost:8080/"
        },
        "id": "pEsjOPj9kGdb",
        "outputId": "8cc713ea-eb6b-434e-9723-d87f36e29c58"
      },
      "source": [
        "features_name = cardio_df.columns.values\n",
        "features_name"
      ],
      "execution_count": null,
      "outputs": [
        {
          "output_type": "execute_result",
          "data": {
            "text/plain": [
              "array(['LB', 'AC', 'FM', 'UC', 'DL', 'DS', 'DP', 'ASTV', 'MSTV', 'ALTV',\n",
              "       'MLTV', 'Width', 'Min', 'Max', 'Nmax', 'Nzeros', 'Mode', 'Mean',\n",
              "       'Median', 'Variance', 'TARGET'], dtype=object)"
            ]
          },
          "metadata": {},
          "execution_count": 31
        }
      ]
    },
    {
      "cell_type": "code",
      "metadata": {
        "colab": {
          "base_uri": "https://localhost:8080/"
        },
        "id": "c7fpwvBlfQCO",
        "outputId": "1aa10ffb-bb98-419d-f228-b755dc2facc2"
      },
      "source": [
        "#FEATURES DISTRIBUTION - HISTOGRAMS\n",
        "'''\n",
        "fig, axes= plt.subplots(5,4, figsize=(20,15))\n",
        "ax = axes.ravel()\n",
        "features_name = cardio_df.columns.values\n",
        "\n",
        "for i in range(20):\n",
        "  _,bins=np.histogram(cardio_numpy[:,i],bins=40)\n",
        "  ax[i].hist(normal_numpy[:,i],bins=bins,color='palegreen',alpha=0.7)\n",
        "  ax[i].hist(pathologic_numpy[:,i],bins=bins,color='salmon',alpha=0.8)\n",
        "  ax[i].set_title(features_name[i],fontsize=9)\n",
        "  ax[i].axes.get_xaxis().set_visible(True)\n",
        "  ax[i].set_yticks(())\n",
        "  ax[i].legend(['Normal', 'Pathologic'],loc='best',fontsize=8)\n",
        " \n",
        "plt.tight_layout()\n",
        "plt.show()\n",
        "'''"
      ],
      "execution_count": null,
      "outputs": [
        {
          "output_type": "execute_result",
          "data": {
            "text/plain": [
              "\"\\nfig, axes= plt.subplots(5,4, figsize=(20,15))\\nax = axes.ravel()\\nfeatures_name = cardio_df.columns.values\\n\\nfor i in range(20):\\n  _,bins=np.histogram(cardio_numpy[:,i],bins=40)\\n  ax[i].hist(normal_numpy[:,i],bins=bins,color='palegreen',alpha=0.7)\\n  ax[i].hist(pathologic_numpy[:,i],bins=bins,color='salmon',alpha=0.8)\\n  ax[i].set_title(features_name[i],fontsize=9)\\n  ax[i].axes.get_xaxis().set_visible(True)\\n  ax[i].set_yticks(())\\n  ax[i].legend(['Normal', 'Pathologic'],loc='best',fontsize=8)\\n \\nplt.tight_layout()\\nplt.show()\\n\""
            ],
            "application/vnd.google.colaboratory.intrinsic+json": {
              "type": "string"
            }
          },
          "metadata": {},
          "execution_count": 32
        }
      ]
    },
    {
      "cell_type": "code",
      "source": [
        "#FEATURES DISTRIBUTION - KDE\n",
        "\n",
        "'''\n",
        "palette = [\"salmon\",\"palegreen\"]\n",
        "f = plt.figure()\n",
        "for i in range(20):\n",
        "  #sns.set(rc={'figure.figsize':(40,40)})\n",
        "  sns.displot(cardio_df, x=cardio_df.columns.values[i], hue=\"TARGET\", \n",
        "              kind=\"kde\", fill=True, palette=palette, legend = False, alpha = 0.8, hue_order=[2,1],height=8.27, aspect=11.7/8.27)\n",
        "\n",
        "  plt.legend(labels=['Normal','Pathologic'])\n",
        "  plt.show()\n",
        "'''"
      ],
      "metadata": {
        "colab": {
          "base_uri": "https://localhost:8080/"
        },
        "id": "7BImU6iAEhVJ",
        "outputId": "ec9a6e32-ebfc-42d1-80f8-9f930c25fd1d"
      },
      "execution_count": null,
      "outputs": [
        {
          "output_type": "execute_result",
          "data": {
            "text/plain": [
              "'\\npalette = [\"salmon\",\"palegreen\"]\\nf = plt.figure()\\nfor i in range(20):\\n  #sns.set(rc={\\'figure.figsize\\':(40,40)})\\n  sns.displot(cardio_df, x=cardio_df.columns.values[i], hue=\"TARGET\", \\n              kind=\"kde\", fill=True, palette=palette, legend = False, alpha = 0.8, hue_order=[2,1],height=8.27, aspect=11.7/8.27)\\n\\n  plt.legend(labels=[\\'Normal\\',\\'Pathologic\\'])\\n  plt.show()\\n'"
            ],
            "application/vnd.google.colaboratory.intrinsic+json": {
              "type": "string"
            }
          },
          "metadata": {},
          "execution_count": 33
        }
      ]
    },
    {
      "cell_type": "markdown",
      "source": [
        "# Matrice di correlazione"
      ],
      "metadata": {
        "id": "yVZVbrHE7wCE"
      }
    },
    {
      "cell_type": "code",
      "metadata": {
        "id": "HADSGCiCph_B",
        "colab": {
          "base_uri": "https://localhost:8080/"
        },
        "outputId": "c87a227c-cd1f-4254-cd4f-2b19fd69ea54"
      },
      "source": [
        " #CORRELATION MATRIX\n",
        "\n",
        "sns.set(style=\"white\", font_scale=1)\n",
        "corr=cardio_df_without_target.corr(method='pearson')\n",
        "corr\n"
      ],
      "execution_count": null,
      "outputs": [
        {
          "output_type": "execute_result",
          "data": {
            "text/plain": [
              "                LB        AC        FM        UC        DL        DS  \\\n",
              "LB        1.000000 -0.080862 -0.033350 -0.146372 -0.158845 -0.054799   \n",
              "AC       -0.080862  1.000000  0.046949  0.086653 -0.110934 -0.043733   \n",
              "FM       -0.033350  0.046949  1.000000 -0.069981  0.050401 -0.010824   \n",
              "UC       -0.146372  0.086653 -0.069981  1.000000  0.287032  0.006751   \n",
              "DL       -0.158845 -0.110934  0.050401  0.287032  1.000000  0.115216   \n",
              "DS       -0.054799 -0.043733 -0.010824  0.006751  0.115216  1.000000   \n",
              "DP       -0.105236 -0.131007  0.265627  0.087898  0.231103  0.009848   \n",
              "ASTV      0.305570 -0.280089 -0.103721 -0.229072 -0.117416  0.037306   \n",
              "MSTV     -0.279607  0.207595  0.121213  0.286907  0.563260  0.034632   \n",
              "ALTV      0.285630 -0.374335 -0.074190 -0.308000 -0.272250 -0.030506   \n",
              "MLTV     -0.032091 -0.144876  0.011062 -0.068487 -0.243174 -0.041751   \n",
              "Width    -0.147679  0.298922  0.162657  0.140247  0.520282  0.044434   \n",
              "Min       0.361619 -0.154934 -0.153883 -0.111860 -0.553921 -0.071670   \n",
              "Max       0.275110  0.393712  0.099619  0.120195  0.217002 -0.021600   \n",
              "Nmax     -0.113933  0.189319  0.164450  0.081860  0.397183  0.006892   \n",
              "Nzeros   -0.004745 -0.006412 -0.017855  0.057815  0.235296  0.049462   \n",
              "Mode      0.708993  0.243845 -0.061042 -0.106559 -0.350232 -0.216356   \n",
              "Mean      0.723121  0.270496 -0.089502 -0.190340 -0.530564 -0.162154   \n",
              "Median    0.789246  0.272948 -0.072175 -0.142111 -0.390822 -0.165038   \n",
              "Variance -0.133938  0.126380  0.179309  0.238755  0.567483  0.132999   \n",
              "\n",
              "                DP      ASTV      MSTV      ALTV      MLTV     Width  \\\n",
              "LB       -0.105236  0.305570 -0.279607  0.285630 -0.032091 -0.147679   \n",
              "AC       -0.131007 -0.280089  0.207595 -0.374335 -0.144876  0.298922   \n",
              "FM        0.265627 -0.103721  0.121213 -0.074190  0.011062  0.162657   \n",
              "UC        0.087898 -0.229072  0.286907 -0.308000 -0.068487  0.140247   \n",
              "DL        0.231103 -0.117416  0.563260 -0.272250 -0.243174  0.520282   \n",
              "DS        0.009848  0.037306  0.034632 -0.030506 -0.041751  0.044434   \n",
              "DP        1.000000  0.048813  0.268688 -0.138521 -0.226737  0.266457   \n",
              "ASTV      0.048813  1.000000 -0.430705  0.459413 -0.315105 -0.260463   \n",
              "MSTV      0.268688 -0.430705  1.000000 -0.470259  0.073892  0.660847   \n",
              "ALTV     -0.138521  0.459413 -0.470259  1.000000 -0.171114 -0.451297   \n",
              "MLTV     -0.226737 -0.315105  0.073892 -0.171114  1.000000  0.110942   \n",
              "Width     0.266457 -0.260463  0.660847 -0.451297  0.110942  1.000000   \n",
              "Min      -0.278293  0.275378 -0.622569  0.422834 -0.144976 -0.898519   \n",
              "Max       0.120019 -0.111806  0.409072 -0.283183  0.002023  0.690769   \n",
              "Nmax      0.221066 -0.167561  0.501430 -0.279301  0.056357  0.747071   \n",
              "Nzeros    0.057278 -0.149296  0.266183 -0.121784  0.123869  0.317276   \n",
              "Mode     -0.437137  0.058363 -0.307586  0.165211  0.072071 -0.159261   \n",
              "Mean     -0.492250  0.074554 -0.445401  0.222321  0.137813 -0.280846   \n",
              "Median   -0.448311  0.119960 -0.336109  0.186480  0.063228 -0.168854   \n",
              "Variance  0.505023 -0.146434  0.555852 -0.281536 -0.164079  0.615884   \n",
              "\n",
              "               Min       Max      Nmax    Nzeros      Mode      Mean  \\\n",
              "LB        0.361619  0.275110 -0.113933 -0.004745  0.708993  0.723121   \n",
              "AC       -0.154934  0.393712  0.189319 -0.006412  0.243845  0.270496   \n",
              "FM       -0.153883  0.099619  0.164450 -0.017855 -0.061042 -0.089502   \n",
              "UC       -0.111860  0.120195  0.081860  0.057815 -0.106559 -0.190340   \n",
              "DL       -0.553921  0.217002  0.397183  0.235296 -0.350232 -0.530564   \n",
              "DS       -0.071670 -0.021600  0.006892  0.049462 -0.216356 -0.162154   \n",
              "DP       -0.278293  0.120019  0.221066  0.057278 -0.437137 -0.492250   \n",
              "ASTV      0.275378 -0.111806 -0.167561 -0.149296  0.058363  0.074554   \n",
              "MSTV     -0.622569  0.409072  0.501430  0.266183 -0.307586 -0.445401   \n",
              "ALTV      0.422834 -0.283183 -0.279301 -0.121784  0.165211  0.222321   \n",
              "MLTV     -0.144976  0.002023  0.056357  0.123869  0.072071  0.137813   \n",
              "Width    -0.898519  0.690769  0.747071  0.317276 -0.159261 -0.280846   \n",
              "Min       1.000000 -0.303286 -0.670287 -0.306567  0.353067  0.486121   \n",
              "Max      -0.303286  1.000000  0.517652  0.183766  0.235877  0.191108   \n",
              "Nmax     -0.670287  0.517652  1.000000  0.288593 -0.100123 -0.217242   \n",
              "Nzeros   -0.306567  0.183766  0.288593  1.000000 -0.057978 -0.084417   \n",
              "Mode      0.353067  0.235877 -0.100123 -0.057978  1.000000  0.893412   \n",
              "Mean      0.486121  0.191108 -0.217242 -0.084417  0.893412  1.000000   \n",
              "Median    0.400191  0.292680 -0.122844 -0.052896  0.933399  0.948251   \n",
              "Variance -0.545091  0.439094  0.454354  0.196747 -0.312765 -0.399423   \n",
              "\n",
              "            Median  Variance  \n",
              "LB        0.789246 -0.133938  \n",
              "AC        0.272948  0.126380  \n",
              "FM       -0.072175  0.179309  \n",
              "UC       -0.142111  0.238755  \n",
              "DL       -0.390822  0.567483  \n",
              "DS       -0.165038  0.132999  \n",
              "DP       -0.448311  0.505023  \n",
              "ASTV      0.119960 -0.146434  \n",
              "MSTV     -0.336109  0.555852  \n",
              "ALTV      0.186480 -0.281536  \n",
              "MLTV      0.063228 -0.164079  \n",
              "Width    -0.168854  0.615884  \n",
              "Min       0.400191 -0.545091  \n",
              "Max       0.292680  0.439094  \n",
              "Nmax     -0.122844  0.454354  \n",
              "Nzeros   -0.052896  0.196747  \n",
              "Mode      0.933399 -0.312765  \n",
              "Mean      0.948251 -0.399423  \n",
              "Median    1.000000 -0.294105  \n",
              "Variance -0.294105  1.000000  "
            ],
            "text/html": [
              "\n",
              "  <div id=\"df-7b6fa303-d1c9-4093-988d-6d50dd7b3f4b\">\n",
              "    <div class=\"colab-df-container\">\n",
              "      <div>\n",
              "<style scoped>\n",
              "    .dataframe tbody tr th:only-of-type {\n",
              "        vertical-align: middle;\n",
              "    }\n",
              "\n",
              "    .dataframe tbody tr th {\n",
              "        vertical-align: top;\n",
              "    }\n",
              "\n",
              "    .dataframe thead th {\n",
              "        text-align: right;\n",
              "    }\n",
              "</style>\n",
              "<table border=\"1\" class=\"dataframe\">\n",
              "  <thead>\n",
              "    <tr style=\"text-align: right;\">\n",
              "      <th></th>\n",
              "      <th>LB</th>\n",
              "      <th>AC</th>\n",
              "      <th>FM</th>\n",
              "      <th>UC</th>\n",
              "      <th>DL</th>\n",
              "      <th>DS</th>\n",
              "      <th>DP</th>\n",
              "      <th>ASTV</th>\n",
              "      <th>MSTV</th>\n",
              "      <th>ALTV</th>\n",
              "      <th>MLTV</th>\n",
              "      <th>Width</th>\n",
              "      <th>Min</th>\n",
              "      <th>Max</th>\n",
              "      <th>Nmax</th>\n",
              "      <th>Nzeros</th>\n",
              "      <th>Mode</th>\n",
              "      <th>Mean</th>\n",
              "      <th>Median</th>\n",
              "      <th>Variance</th>\n",
              "    </tr>\n",
              "  </thead>\n",
              "  <tbody>\n",
              "    <tr>\n",
              "      <th>LB</th>\n",
              "      <td>1.000000</td>\n",
              "      <td>-0.080862</td>\n",
              "      <td>-0.033350</td>\n",
              "      <td>-0.146372</td>\n",
              "      <td>-0.158845</td>\n",
              "      <td>-0.054799</td>\n",
              "      <td>-0.105236</td>\n",
              "      <td>0.305570</td>\n",
              "      <td>-0.279607</td>\n",
              "      <td>0.285630</td>\n",
              "      <td>-0.032091</td>\n",
              "      <td>-0.147679</td>\n",
              "      <td>0.361619</td>\n",
              "      <td>0.275110</td>\n",
              "      <td>-0.113933</td>\n",
              "      <td>-0.004745</td>\n",
              "      <td>0.708993</td>\n",
              "      <td>0.723121</td>\n",
              "      <td>0.789246</td>\n",
              "      <td>-0.133938</td>\n",
              "    </tr>\n",
              "    <tr>\n",
              "      <th>AC</th>\n",
              "      <td>-0.080862</td>\n",
              "      <td>1.000000</td>\n",
              "      <td>0.046949</td>\n",
              "      <td>0.086653</td>\n",
              "      <td>-0.110934</td>\n",
              "      <td>-0.043733</td>\n",
              "      <td>-0.131007</td>\n",
              "      <td>-0.280089</td>\n",
              "      <td>0.207595</td>\n",
              "      <td>-0.374335</td>\n",
              "      <td>-0.144876</td>\n",
              "      <td>0.298922</td>\n",
              "      <td>-0.154934</td>\n",
              "      <td>0.393712</td>\n",
              "      <td>0.189319</td>\n",
              "      <td>-0.006412</td>\n",
              "      <td>0.243845</td>\n",
              "      <td>0.270496</td>\n",
              "      <td>0.272948</td>\n",
              "      <td>0.126380</td>\n",
              "    </tr>\n",
              "    <tr>\n",
              "      <th>FM</th>\n",
              "      <td>-0.033350</td>\n",
              "      <td>0.046949</td>\n",
              "      <td>1.000000</td>\n",
              "      <td>-0.069981</td>\n",
              "      <td>0.050401</td>\n",
              "      <td>-0.010824</td>\n",
              "      <td>0.265627</td>\n",
              "      <td>-0.103721</td>\n",
              "      <td>0.121213</td>\n",
              "      <td>-0.074190</td>\n",
              "      <td>0.011062</td>\n",
              "      <td>0.162657</td>\n",
              "      <td>-0.153883</td>\n",
              "      <td>0.099619</td>\n",
              "      <td>0.164450</td>\n",
              "      <td>-0.017855</td>\n",
              "      <td>-0.061042</td>\n",
              "      <td>-0.089502</td>\n",
              "      <td>-0.072175</td>\n",
              "      <td>0.179309</td>\n",
              "    </tr>\n",
              "    <tr>\n",
              "      <th>UC</th>\n",
              "      <td>-0.146372</td>\n",
              "      <td>0.086653</td>\n",
              "      <td>-0.069981</td>\n",
              "      <td>1.000000</td>\n",
              "      <td>0.287032</td>\n",
              "      <td>0.006751</td>\n",
              "      <td>0.087898</td>\n",
              "      <td>-0.229072</td>\n",
              "      <td>0.286907</td>\n",
              "      <td>-0.308000</td>\n",
              "      <td>-0.068487</td>\n",
              "      <td>0.140247</td>\n",
              "      <td>-0.111860</td>\n",
              "      <td>0.120195</td>\n",
              "      <td>0.081860</td>\n",
              "      <td>0.057815</td>\n",
              "      <td>-0.106559</td>\n",
              "      <td>-0.190340</td>\n",
              "      <td>-0.142111</td>\n",
              "      <td>0.238755</td>\n",
              "    </tr>\n",
              "    <tr>\n",
              "      <th>DL</th>\n",
              "      <td>-0.158845</td>\n",
              "      <td>-0.110934</td>\n",
              "      <td>0.050401</td>\n",
              "      <td>0.287032</td>\n",
              "      <td>1.000000</td>\n",
              "      <td>0.115216</td>\n",
              "      <td>0.231103</td>\n",
              "      <td>-0.117416</td>\n",
              "      <td>0.563260</td>\n",
              "      <td>-0.272250</td>\n",
              "      <td>-0.243174</td>\n",
              "      <td>0.520282</td>\n",
              "      <td>-0.553921</td>\n",
              "      <td>0.217002</td>\n",
              "      <td>0.397183</td>\n",
              "      <td>0.235296</td>\n",
              "      <td>-0.350232</td>\n",
              "      <td>-0.530564</td>\n",
              "      <td>-0.390822</td>\n",
              "      <td>0.567483</td>\n",
              "    </tr>\n",
              "    <tr>\n",
              "      <th>DS</th>\n",
              "      <td>-0.054799</td>\n",
              "      <td>-0.043733</td>\n",
              "      <td>-0.010824</td>\n",
              "      <td>0.006751</td>\n",
              "      <td>0.115216</td>\n",
              "      <td>1.000000</td>\n",
              "      <td>0.009848</td>\n",
              "      <td>0.037306</td>\n",
              "      <td>0.034632</td>\n",
              "      <td>-0.030506</td>\n",
              "      <td>-0.041751</td>\n",
              "      <td>0.044434</td>\n",
              "      <td>-0.071670</td>\n",
              "      <td>-0.021600</td>\n",
              "      <td>0.006892</td>\n",
              "      <td>0.049462</td>\n",
              "      <td>-0.216356</td>\n",
              "      <td>-0.162154</td>\n",
              "      <td>-0.165038</td>\n",
              "      <td>0.132999</td>\n",
              "    </tr>\n",
              "    <tr>\n",
              "      <th>DP</th>\n",
              "      <td>-0.105236</td>\n",
              "      <td>-0.131007</td>\n",
              "      <td>0.265627</td>\n",
              "      <td>0.087898</td>\n",
              "      <td>0.231103</td>\n",
              "      <td>0.009848</td>\n",
              "      <td>1.000000</td>\n",
              "      <td>0.048813</td>\n",
              "      <td>0.268688</td>\n",
              "      <td>-0.138521</td>\n",
              "      <td>-0.226737</td>\n",
              "      <td>0.266457</td>\n",
              "      <td>-0.278293</td>\n",
              "      <td>0.120019</td>\n",
              "      <td>0.221066</td>\n",
              "      <td>0.057278</td>\n",
              "      <td>-0.437137</td>\n",
              "      <td>-0.492250</td>\n",
              "      <td>-0.448311</td>\n",
              "      <td>0.505023</td>\n",
              "    </tr>\n",
              "    <tr>\n",
              "      <th>ASTV</th>\n",
              "      <td>0.305570</td>\n",
              "      <td>-0.280089</td>\n",
              "      <td>-0.103721</td>\n",
              "      <td>-0.229072</td>\n",
              "      <td>-0.117416</td>\n",
              "      <td>0.037306</td>\n",
              "      <td>0.048813</td>\n",
              "      <td>1.000000</td>\n",
              "      <td>-0.430705</td>\n",
              "      <td>0.459413</td>\n",
              "      <td>-0.315105</td>\n",
              "      <td>-0.260463</td>\n",
              "      <td>0.275378</td>\n",
              "      <td>-0.111806</td>\n",
              "      <td>-0.167561</td>\n",
              "      <td>-0.149296</td>\n",
              "      <td>0.058363</td>\n",
              "      <td>0.074554</td>\n",
              "      <td>0.119960</td>\n",
              "      <td>-0.146434</td>\n",
              "    </tr>\n",
              "    <tr>\n",
              "      <th>MSTV</th>\n",
              "      <td>-0.279607</td>\n",
              "      <td>0.207595</td>\n",
              "      <td>0.121213</td>\n",
              "      <td>0.286907</td>\n",
              "      <td>0.563260</td>\n",
              "      <td>0.034632</td>\n",
              "      <td>0.268688</td>\n",
              "      <td>-0.430705</td>\n",
              "      <td>1.000000</td>\n",
              "      <td>-0.470259</td>\n",
              "      <td>0.073892</td>\n",
              "      <td>0.660847</td>\n",
              "      <td>-0.622569</td>\n",
              "      <td>0.409072</td>\n",
              "      <td>0.501430</td>\n",
              "      <td>0.266183</td>\n",
              "      <td>-0.307586</td>\n",
              "      <td>-0.445401</td>\n",
              "      <td>-0.336109</td>\n",
              "      <td>0.555852</td>\n",
              "    </tr>\n",
              "    <tr>\n",
              "      <th>ALTV</th>\n",
              "      <td>0.285630</td>\n",
              "      <td>-0.374335</td>\n",
              "      <td>-0.074190</td>\n",
              "      <td>-0.308000</td>\n",
              "      <td>-0.272250</td>\n",
              "      <td>-0.030506</td>\n",
              "      <td>-0.138521</td>\n",
              "      <td>0.459413</td>\n",
              "      <td>-0.470259</td>\n",
              "      <td>1.000000</td>\n",
              "      <td>-0.171114</td>\n",
              "      <td>-0.451297</td>\n",
              "      <td>0.422834</td>\n",
              "      <td>-0.283183</td>\n",
              "      <td>-0.279301</td>\n",
              "      <td>-0.121784</td>\n",
              "      <td>0.165211</td>\n",
              "      <td>0.222321</td>\n",
              "      <td>0.186480</td>\n",
              "      <td>-0.281536</td>\n",
              "    </tr>\n",
              "    <tr>\n",
              "      <th>MLTV</th>\n",
              "      <td>-0.032091</td>\n",
              "      <td>-0.144876</td>\n",
              "      <td>0.011062</td>\n",
              "      <td>-0.068487</td>\n",
              "      <td>-0.243174</td>\n",
              "      <td>-0.041751</td>\n",
              "      <td>-0.226737</td>\n",
              "      <td>-0.315105</td>\n",
              "      <td>0.073892</td>\n",
              "      <td>-0.171114</td>\n",
              "      <td>1.000000</td>\n",
              "      <td>0.110942</td>\n",
              "      <td>-0.144976</td>\n",
              "      <td>0.002023</td>\n",
              "      <td>0.056357</td>\n",
              "      <td>0.123869</td>\n",
              "      <td>0.072071</td>\n",
              "      <td>0.137813</td>\n",
              "      <td>0.063228</td>\n",
              "      <td>-0.164079</td>\n",
              "    </tr>\n",
              "    <tr>\n",
              "      <th>Width</th>\n",
              "      <td>-0.147679</td>\n",
              "      <td>0.298922</td>\n",
              "      <td>0.162657</td>\n",
              "      <td>0.140247</td>\n",
              "      <td>0.520282</td>\n",
              "      <td>0.044434</td>\n",
              "      <td>0.266457</td>\n",
              "      <td>-0.260463</td>\n",
              "      <td>0.660847</td>\n",
              "      <td>-0.451297</td>\n",
              "      <td>0.110942</td>\n",
              "      <td>1.000000</td>\n",
              "      <td>-0.898519</td>\n",
              "      <td>0.690769</td>\n",
              "      <td>0.747071</td>\n",
              "      <td>0.317276</td>\n",
              "      <td>-0.159261</td>\n",
              "      <td>-0.280846</td>\n",
              "      <td>-0.168854</td>\n",
              "      <td>0.615884</td>\n",
              "    </tr>\n",
              "    <tr>\n",
              "      <th>Min</th>\n",
              "      <td>0.361619</td>\n",
              "      <td>-0.154934</td>\n",
              "      <td>-0.153883</td>\n",
              "      <td>-0.111860</td>\n",
              "      <td>-0.553921</td>\n",
              "      <td>-0.071670</td>\n",
              "      <td>-0.278293</td>\n",
              "      <td>0.275378</td>\n",
              "      <td>-0.622569</td>\n",
              "      <td>0.422834</td>\n",
              "      <td>-0.144976</td>\n",
              "      <td>-0.898519</td>\n",
              "      <td>1.000000</td>\n",
              "      <td>-0.303286</td>\n",
              "      <td>-0.670287</td>\n",
              "      <td>-0.306567</td>\n",
              "      <td>0.353067</td>\n",
              "      <td>0.486121</td>\n",
              "      <td>0.400191</td>\n",
              "      <td>-0.545091</td>\n",
              "    </tr>\n",
              "    <tr>\n",
              "      <th>Max</th>\n",
              "      <td>0.275110</td>\n",
              "      <td>0.393712</td>\n",
              "      <td>0.099619</td>\n",
              "      <td>0.120195</td>\n",
              "      <td>0.217002</td>\n",
              "      <td>-0.021600</td>\n",
              "      <td>0.120019</td>\n",
              "      <td>-0.111806</td>\n",
              "      <td>0.409072</td>\n",
              "      <td>-0.283183</td>\n",
              "      <td>0.002023</td>\n",
              "      <td>0.690769</td>\n",
              "      <td>-0.303286</td>\n",
              "      <td>1.000000</td>\n",
              "      <td>0.517652</td>\n",
              "      <td>0.183766</td>\n",
              "      <td>0.235877</td>\n",
              "      <td>0.191108</td>\n",
              "      <td>0.292680</td>\n",
              "      <td>0.439094</td>\n",
              "    </tr>\n",
              "    <tr>\n",
              "      <th>Nmax</th>\n",
              "      <td>-0.113933</td>\n",
              "      <td>0.189319</td>\n",
              "      <td>0.164450</td>\n",
              "      <td>0.081860</td>\n",
              "      <td>0.397183</td>\n",
              "      <td>0.006892</td>\n",
              "      <td>0.221066</td>\n",
              "      <td>-0.167561</td>\n",
              "      <td>0.501430</td>\n",
              "      <td>-0.279301</td>\n",
              "      <td>0.056357</td>\n",
              "      <td>0.747071</td>\n",
              "      <td>-0.670287</td>\n",
              "      <td>0.517652</td>\n",
              "      <td>1.000000</td>\n",
              "      <td>0.288593</td>\n",
              "      <td>-0.100123</td>\n",
              "      <td>-0.217242</td>\n",
              "      <td>-0.122844</td>\n",
              "      <td>0.454354</td>\n",
              "    </tr>\n",
              "    <tr>\n",
              "      <th>Nzeros</th>\n",
              "      <td>-0.004745</td>\n",
              "      <td>-0.006412</td>\n",
              "      <td>-0.017855</td>\n",
              "      <td>0.057815</td>\n",
              "      <td>0.235296</td>\n",
              "      <td>0.049462</td>\n",
              "      <td>0.057278</td>\n",
              "      <td>-0.149296</td>\n",
              "      <td>0.266183</td>\n",
              "      <td>-0.121784</td>\n",
              "      <td>0.123869</td>\n",
              "      <td>0.317276</td>\n",
              "      <td>-0.306567</td>\n",
              "      <td>0.183766</td>\n",
              "      <td>0.288593</td>\n",
              "      <td>1.000000</td>\n",
              "      <td>-0.057978</td>\n",
              "      <td>-0.084417</td>\n",
              "      <td>-0.052896</td>\n",
              "      <td>0.196747</td>\n",
              "    </tr>\n",
              "    <tr>\n",
              "      <th>Mode</th>\n",
              "      <td>0.708993</td>\n",
              "      <td>0.243845</td>\n",
              "      <td>-0.061042</td>\n",
              "      <td>-0.106559</td>\n",
              "      <td>-0.350232</td>\n",
              "      <td>-0.216356</td>\n",
              "      <td>-0.437137</td>\n",
              "      <td>0.058363</td>\n",
              "      <td>-0.307586</td>\n",
              "      <td>0.165211</td>\n",
              "      <td>0.072071</td>\n",
              "      <td>-0.159261</td>\n",
              "      <td>0.353067</td>\n",
              "      <td>0.235877</td>\n",
              "      <td>-0.100123</td>\n",
              "      <td>-0.057978</td>\n",
              "      <td>1.000000</td>\n",
              "      <td>0.893412</td>\n",
              "      <td>0.933399</td>\n",
              "      <td>-0.312765</td>\n",
              "    </tr>\n",
              "    <tr>\n",
              "      <th>Mean</th>\n",
              "      <td>0.723121</td>\n",
              "      <td>0.270496</td>\n",
              "      <td>-0.089502</td>\n",
              "      <td>-0.190340</td>\n",
              "      <td>-0.530564</td>\n",
              "      <td>-0.162154</td>\n",
              "      <td>-0.492250</td>\n",
              "      <td>0.074554</td>\n",
              "      <td>-0.445401</td>\n",
              "      <td>0.222321</td>\n",
              "      <td>0.137813</td>\n",
              "      <td>-0.280846</td>\n",
              "      <td>0.486121</td>\n",
              "      <td>0.191108</td>\n",
              "      <td>-0.217242</td>\n",
              "      <td>-0.084417</td>\n",
              "      <td>0.893412</td>\n",
              "      <td>1.000000</td>\n",
              "      <td>0.948251</td>\n",
              "      <td>-0.399423</td>\n",
              "    </tr>\n",
              "    <tr>\n",
              "      <th>Median</th>\n",
              "      <td>0.789246</td>\n",
              "      <td>0.272948</td>\n",
              "      <td>-0.072175</td>\n",
              "      <td>-0.142111</td>\n",
              "      <td>-0.390822</td>\n",
              "      <td>-0.165038</td>\n",
              "      <td>-0.448311</td>\n",
              "      <td>0.119960</td>\n",
              "      <td>-0.336109</td>\n",
              "      <td>0.186480</td>\n",
              "      <td>0.063228</td>\n",
              "      <td>-0.168854</td>\n",
              "      <td>0.400191</td>\n",
              "      <td>0.292680</td>\n",
              "      <td>-0.122844</td>\n",
              "      <td>-0.052896</td>\n",
              "      <td>0.933399</td>\n",
              "      <td>0.948251</td>\n",
              "      <td>1.000000</td>\n",
              "      <td>-0.294105</td>\n",
              "    </tr>\n",
              "    <tr>\n",
              "      <th>Variance</th>\n",
              "      <td>-0.133938</td>\n",
              "      <td>0.126380</td>\n",
              "      <td>0.179309</td>\n",
              "      <td>0.238755</td>\n",
              "      <td>0.567483</td>\n",
              "      <td>0.132999</td>\n",
              "      <td>0.505023</td>\n",
              "      <td>-0.146434</td>\n",
              "      <td>0.555852</td>\n",
              "      <td>-0.281536</td>\n",
              "      <td>-0.164079</td>\n",
              "      <td>0.615884</td>\n",
              "      <td>-0.545091</td>\n",
              "      <td>0.439094</td>\n",
              "      <td>0.454354</td>\n",
              "      <td>0.196747</td>\n",
              "      <td>-0.312765</td>\n",
              "      <td>-0.399423</td>\n",
              "      <td>-0.294105</td>\n",
              "      <td>1.000000</td>\n",
              "    </tr>\n",
              "  </tbody>\n",
              "</table>\n",
              "</div>\n",
              "      <button class=\"colab-df-convert\" onclick=\"convertToInteractive('df-7b6fa303-d1c9-4093-988d-6d50dd7b3f4b')\"\n",
              "              title=\"Convert this dataframe to an interactive table.\"\n",
              "              style=\"display:none;\">\n",
              "        \n",
              "  <svg xmlns=\"http://www.w3.org/2000/svg\" height=\"24px\"viewBox=\"0 0 24 24\"\n",
              "       width=\"24px\">\n",
              "    <path d=\"M0 0h24v24H0V0z\" fill=\"none\"/>\n",
              "    <path d=\"M18.56 5.44l.94 2.06.94-2.06 2.06-.94-2.06-.94-.94-2.06-.94 2.06-2.06.94zm-11 1L8.5 8.5l.94-2.06 2.06-.94-2.06-.94L8.5 2.5l-.94 2.06-2.06.94zm10 10l.94 2.06.94-2.06 2.06-.94-2.06-.94-.94-2.06-.94 2.06-2.06.94z\"/><path d=\"M17.41 7.96l-1.37-1.37c-.4-.4-.92-.59-1.43-.59-.52 0-1.04.2-1.43.59L10.3 9.45l-7.72 7.72c-.78.78-.78 2.05 0 2.83L4 21.41c.39.39.9.59 1.41.59.51 0 1.02-.2 1.41-.59l7.78-7.78 2.81-2.81c.8-.78.8-2.07 0-2.86zM5.41 20L4 18.59l7.72-7.72 1.47 1.35L5.41 20z\"/>\n",
              "  </svg>\n",
              "      </button>\n",
              "      \n",
              "  <style>\n",
              "    .colab-df-container {\n",
              "      display:flex;\n",
              "      flex-wrap:wrap;\n",
              "      gap: 12px;\n",
              "    }\n",
              "\n",
              "    .colab-df-convert {\n",
              "      background-color: #E8F0FE;\n",
              "      border: none;\n",
              "      border-radius: 50%;\n",
              "      cursor: pointer;\n",
              "      display: none;\n",
              "      fill: #1967D2;\n",
              "      height: 32px;\n",
              "      padding: 0 0 0 0;\n",
              "      width: 32px;\n",
              "    }\n",
              "\n",
              "    .colab-df-convert:hover {\n",
              "      background-color: #E2EBFA;\n",
              "      box-shadow: 0px 1px 2px rgba(60, 64, 67, 0.3), 0px 1px 3px 1px rgba(60, 64, 67, 0.15);\n",
              "      fill: #174EA6;\n",
              "    }\n",
              "\n",
              "    [theme=dark] .colab-df-convert {\n",
              "      background-color: #3B4455;\n",
              "      fill: #D2E3FC;\n",
              "    }\n",
              "\n",
              "    [theme=dark] .colab-df-convert:hover {\n",
              "      background-color: #434B5C;\n",
              "      box-shadow: 0px 1px 3px 1px rgba(0, 0, 0, 0.15);\n",
              "      filter: drop-shadow(0px 1px 2px rgba(0, 0, 0, 0.3));\n",
              "      fill: #FFFFFF;\n",
              "    }\n",
              "  </style>\n",
              "\n",
              "      <script>\n",
              "        const buttonEl =\n",
              "          document.querySelector('#df-7b6fa303-d1c9-4093-988d-6d50dd7b3f4b button.colab-df-convert');\n",
              "        buttonEl.style.display =\n",
              "          google.colab.kernel.accessAllowed ? 'block' : 'none';\n",
              "\n",
              "        async function convertToInteractive(key) {\n",
              "          const element = document.querySelector('#df-7b6fa303-d1c9-4093-988d-6d50dd7b3f4b');\n",
              "          const dataTable =\n",
              "            await google.colab.kernel.invokeFunction('convertToInteractive',\n",
              "                                                     [key], {});\n",
              "          if (!dataTable) return;\n",
              "\n",
              "          const docLinkHtml = 'Like what you see? Visit the ' +\n",
              "            '<a target=\"_blank\" href=https://colab.research.google.com/notebooks/data_table.ipynb>data table notebook</a>'\n",
              "            + ' to learn more about interactive tables.';\n",
              "          element.innerHTML = '';\n",
              "          dataTable['output_type'] = 'display_data';\n",
              "          await google.colab.output.renderOutput(dataTable, element);\n",
              "          const docLink = document.createElement('div');\n",
              "          docLink.innerHTML = docLinkHtml;\n",
              "          element.appendChild(docLink);\n",
              "        }\n",
              "      </script>\n",
              "    </div>\n",
              "  </div>\n",
              "  "
            ]
          },
          "metadata": {},
          "execution_count": 34
        }
      ]
    },
    {
      "cell_type": "code",
      "metadata": {
        "colab": {
          "base_uri": "https://localhost:8080/"
        },
        "id": "5bozgiqpwPCZ",
        "outputId": "534555d9-619a-4596-989b-aef7c9ece88b"
      },
      "source": [
        "#Plot correlation matrix\n",
        "\n",
        "\n",
        "mask = np.triu(np.ones_like(corr, dtype=np.bool),+1)\n",
        "f, ax = plt.subplots(figsize=(21, 19))\n",
        "#cmap = sns.diverging_palette(150, 275, s=80, l=55, as_cmap=True)\n",
        "cmap = sns.color_palette(\"coolwarm\", as_cmap=True)\n",
        "ax=sns.heatmap(corr, mask=mask, vmax=1, vmin=-1, center=0,\n",
        "            square=True, linewidths=.7, cmap=cmap, cbar_kws={\"shrink\": .5}, annot=True, annot_kws={\"size\": 9})\n",
        "cbar=ax.collections[0].colorbar\n",
        "cbar.set_ticks([-1, -0.50, 0, 0.50, 1])\n",
        "plt.xticks(fontsize=9)\n",
        "plt.yticks(fontsize=9)\n",
        "plt.show()\n"
      ],
      "execution_count": null,
      "outputs": [
        {
          "output_type": "stream",
          "name": "stderr",
          "text": [
            "/usr/local/lib/python3.7/dist-packages/ipykernel_launcher.py:4: DeprecationWarning: `np.bool` is a deprecated alias for the builtin `bool`. To silence this warning, use `bool` by itself. Doing this will not modify any behavior and is safe. If you specifically wanted the numpy scalar type, use `np.bool_` here.\n",
            "Deprecated in NumPy 1.20; for more details and guidance: https://numpy.org/devdocs/release/1.20.0-notes.html#deprecations\n",
            "  after removing the cwd from sys.path.\n"
          ]
        },
        {
          "output_type": "display_data",
          "data": {
            "text/plain": [
              "<Figure size 1512x1368 with 2 Axes>"
            ],
            "image/png": "[encoded data removed]"
          },
          "metadata": {}
        }
      ]
    },
    {
      "cell_type": "code",
      "source": [
        "# SCATTER PLOT FEATURE CORRELATE\n",
        "\n",
        "first = 'Max'\n",
        "second = 'UC'\n",
        "\n",
        "X= cardio_df_without_target[first].to_numpy()  \n",
        "Y=cardio_df_without_target[second].to_numpy()\n",
        "\n",
        "target=cardio_df[\"TARGET\"].to_numpy()\n",
        "\n",
        "\n",
        "fig, ax = plt.subplots(figsize= (15,6))\n",
        "\n",
        "labels=['Normal', 'Pathologic']\n",
        "#labels=['Pathologic', 'Normal']\n",
        "#pop_a = mpatches.Patch(color='steelblue', label='Normal')\n",
        "#pop_b = mpatches.Patch(color='crimson', label='Pathologic')\n",
        "colors=['palegreen','salmon']\n",
        "\n",
        "\n",
        "ax.scatter(X, Y, c=target, cmap=matplotlib.colors.ListedColormap(colors), label=labels)\n",
        "ax.grid()\n",
        "ax.set_xlabel(first)\n",
        "ax.set_ylabel(second)\n",
        "\n",
        "\n",
        "plt.tight_layout()# let's make good plots\n",
        "plt.show()"
      ],
      "metadata": {
        "colab": {
          "base_uri": "https://localhost:8080/"
        },
        "id": "fL4QO0Btp_6v",
        "outputId": "1556cd48-388f-49ad-e529-1b347365f47b"
      },
      "execution_count": null,
      "outputs": [
        {
          "output_type": "display_data",
          "data": {
            "text/plain": [
              "<Figure size 1080x432 with 1 Axes>"
            ],
            "image/png": "[encoded data removed]"
          },
          "metadata": {}
        }
      ]
    },
    {
      "cell_type": "markdown",
      "source": [
        "# Pipeline"
      ],
      "metadata": {
        "id": "VewUtlrz8Ne6"
      }
    },
    {
      "cell_type": "code",
      "metadata": {
        "id": "XeTw0XGJUbZz"
      },
      "source": [
        "#SELEZIONA PASSAGGI CHE VOGLIAMO FARE\n",
        "\n",
        "# Feature selection \n",
        "feature_selection = True\n",
        "applay_pca = False\n",
        "applay_pca_pi = False\n",
        "\n",
        "# Balancing Dataset\n",
        "overRand = False\n",
        "overSMOTE = False\n",
        "underCentr = False\n",
        "overSMOOTEN = False"
      ],
      "execution_count": null,
      "outputs": []
    },
    {
      "cell_type": "markdown",
      "source": [
        "# Correlazione per feature selection"
      ],
      "metadata": {
        "id": "oFHORJ_F8Uyr"
      }
    },
    {
      "cell_type": "code",
      "metadata": {
        "id": "OqOQmiqoRB2-",
        "colab": {
          "base_uri": "https://localhost:8080/"
        },
        "outputId": "3812b4d8-ba86-4feb-98b9-f8a6f5b81608"
      },
      "source": [
        "#CORRELAZIONE DELLE VARIABILI CON LA CLASSE TARGET\n",
        "\n",
        "correlation = cardio_df.corr()\n",
        "corr_target = abs(correlation['TARGET'])\n",
        "\n",
        "relevant_features= corr_target[corr_target> 0]\n",
        "relevant_features.sort_values(ascending=False)"
      ],
      "execution_count": null,
      "outputs": [
        {
          "output_type": "execute_result",
          "data": {
            "text/plain": [
              "TARGET      1.000000\n",
              "ASTV        0.493391\n",
              "ALTV        0.489400\n",
              "AC          0.394988\n",
              "DP          0.340895\n",
              "UC          0.263823\n",
              "LB          0.251875\n",
              "MSTV        0.207717\n",
              "MLTV        0.172519\n",
              "Min         0.158171\n",
              "Width       0.142182\n",
              "Mode        0.092320\n",
              "DS          0.090782\n",
              "Variance    0.085948\n",
              "FM          0.060913\n",
              "Nmax        0.060354\n",
              "Mean        0.059107\n",
              "Max         0.048106\n",
              "Median      0.047890\n",
              "Nzeros      0.031163\n",
              "DL          0.030166\n",
              "Name: TARGET, dtype: float64"
            ]
          },
          "metadata": {},
          "execution_count": 38
        }
      ]
    },
    {
      "cell_type": "code",
      "metadata": {
        "colab": {
          "base_uri": "https://localhost:8080/"
        },
        "id": "443W0vwsSf65",
        "outputId": "78b35642-c93a-4fe3-f97e-7a5a7e552f8e"
      },
      "source": [
        "#ALTRE VARIABILI CON CORRELAZIONE MAGGIORE\n",
        "\n",
        "c=correlation.abs().unstack()\n",
        "c.sort_values(ascending=False, inplace=True)\n",
        "col_above = [(col1,col2, c[col1,col2]) for col1, col2 in c.index if c[col1,col2] > 0.85 and col1 != col2]\n",
        "print(col_above)"
      ],
      "execution_count": null,
      "outputs": [
        {
          "output_type": "stream",
          "name": "stdout",
          "text": [
            "[('Median', 'Mean', 0.9482513380408178), ('Mean', 'Median', 0.9482513380408178), ('Mode', 'Median', 0.9333991564866512), ('Median', 'Mode', 0.9333991564866512), ('Width', 'Min', 0.8985189643113362), ('Min', 'Width', 0.8985189643113362), ('Mean', 'Mode', 0.8934123838327097), ('Mode', 'Mean', 0.8934123838327097)]\n"
          ]
        }
      ]
    },
    {
      "cell_type": "code",
      "metadata": {
        "id": "vmd0KehCdyfM",
        "colab": {
          "base_uri": "https://localhost:8080/"
        },
        "outputId": "ab7af352-95fc-47a7-87d5-40465a4fb72f"
      },
      "source": [
        "#FEATURE SELECTION\n",
        "if feature_selection == True:\n",
        "    \n",
        "  todrop = []\n",
        "  for i in range(len(col_above)):\n",
        "    feature1 = col_above[i][0]\n",
        "    feature2 = col_above[i][1]\n",
        "    if(corr_target[feature1]>=corr_target[feature2]):\n",
        "      todrop.append(feature2)\n",
        "    else:\n",
        "      todrop.append(feature1)\n",
        "\n",
        "  todrop_set = set(todrop)\n",
        "  print (todrop_set)\n",
        "\n",
        "  #eliminiamo tutte le colonne che vogliamo droppare\n",
        "  cardio_df_without_target= cardio_df_without_target.drop(cardio_df_without_target[todrop_set], axis = 1)\n",
        "  cardio_df= cardio_df.drop(cardio_df[todrop_set], axis = 1)"
      ],
      "execution_count": null,
      "outputs": [
        {
          "output_type": "stream",
          "name": "stdout",
          "text": [
            "{'Width', 'Mean', 'Median'}\n"
          ]
        }
      ]
    },
    {
      "cell_type": "markdown",
      "source": [
        "# Train/test split"
      ],
      "metadata": {
        "id": "Cj1dcJjf8bFd"
      }
    },
    {
      "cell_type": "code",
      "metadata": {
        "colab": {
          "base_uri": "https://localhost:8080/"
        },
        "id": "5JPj2VUilsCI",
        "outputId": "2d6f5e70-d3d4-4431-b18a-f9a7b34b5377"
      },
      "source": [
        "#TRAIN TEST SPLIT \n",
        "\n",
        "cardio_numpy_without_target=cardio_df_without_target.to_numpy() \n",
        "X_train, X_test, Y_train, Y_test = train_test_split(cardio_numpy_without_target, target, test_size=0.33, random_state=42, stratify=target)\n",
        "\n",
        "'''\n",
        "print(np.shape(X_train))\n",
        "print(np.shape(X_test))\n",
        "\n",
        "print(len(Y_train[Y_train==1]))\n",
        "print(len(Y_train[Y_train==2]))\n",
        "print(len(Y_train[Y_train==3]))\n",
        "\n",
        "print(len(Y_test[Y_test==1]))\n",
        "print(len(Y_test[Y_test==2]))\n",
        "print(len(Y_test[Y_test==3]))\n",
        "'''"
      ],
      "execution_count": null,
      "outputs": [
        {
          "output_type": "execute_result",
          "data": {
            "text/plain": [
              "'\\nprint(np.shape(X_train))\\nprint(np.shape(X_test))\\n\\nprint(len(Y_train[Y_train==1]))\\nprint(len(Y_train[Y_train==2]))\\nprint(len(Y_train[Y_train==3]))\\n\\nprint(len(Y_test[Y_test==1]))\\nprint(len(Y_test[Y_test==2]))\\nprint(len(Y_test[Y_test==3]))\\n'"
            ],
            "application/vnd.google.colaboratory.intrinsic+json": {
              "type": "string"
            }
          },
          "metadata": {},
          "execution_count": 41
        }
      ]
    },
    {
      "cell_type": "code",
      "source": [
        "cardio_df_without_target"
      ],
      "metadata": {
        "colab": {
          "base_uri": "https://localhost:8080/"
        },
        "id": "NyMKcG3Zsxyz",
        "outputId": "ad82d363-efe4-4c97-9036-e2c51b7d2de2"
      },
      "execution_count": null,
      "outputs": [
        {
          "output_type": "execute_result",
          "data": {
            "text/plain": [
              "       LB        AC        FM        UC        DL   DS   DP  ASTV  MSTV  ALTV  \\\n",
              "0     120  0.000000  0.000000  0.000000  0.000000  0.0  0.0    73   0.5    43   \n",
              "1     132  0.006380  0.000000  0.006380  0.003190  0.0  0.0    17   2.1     0   \n",
              "2     133  0.003322  0.000000  0.008306  0.003322  0.0  0.0    16   2.1     0   \n",
              "3     134  0.002561  0.000000  0.007682  0.002561  0.0  0.0    16   2.4     0   \n",
              "4     132  0.006515  0.000000  0.008143  0.000000  0.0  0.0    16   2.4     0   \n",
              "...   ...       ...       ...       ...       ...  ...  ...   ...   ...   ...   \n",
              "2121  140  0.000000  0.000000  0.007426  0.000000  0.0  0.0    79   0.2    25   \n",
              "2122  140  0.000775  0.000000  0.006971  0.000000  0.0  0.0    78   0.4    22   \n",
              "2123  140  0.000980  0.000000  0.006863  0.000000  0.0  0.0    79   0.4    20   \n",
              "2124  140  0.000679  0.000000  0.006110  0.000000  0.0  0.0    78   0.4    27   \n",
              "2125  142  0.001616  0.001616  0.008078  0.000000  0.0  0.0    74   0.4    36   \n",
              "\n",
              "      MLTV  Min  Max  Nmax  Nzeros  Mode  Variance  \n",
              "0      2.4   62  126     2       0   120        73  \n",
              "1     10.4   68  198     6       1   141        12  \n",
              "2     13.4   68  198     5       1   141        13  \n",
              "3     23.0   53  170    11       0   137        13  \n",
              "4     19.9   53  170     9       0   137        11  \n",
              "...    ...  ...  ...   ...     ...   ...       ...  \n",
              "2121   7.2  137  177     4       0   153         2  \n",
              "2122   7.1  103  169     6       0   152         3  \n",
              "2123   6.1  103  170     5       0   153         4  \n",
              "2124   7.0  103  169     6       0   152         4  \n",
              "2125   5.0  117  159     2       1   145         1  \n",
              "\n",
              "[2126 rows x 17 columns]"
            ],
            "text/html": [
              "\n",
              "  <div id=\"df-fae6a421-5d57-4e09-a640-c0720ca8131a\">\n",
              "    <div class=\"colab-df-container\">\n",
              "      <div>\n",
              "<style scoped>\n",
              "    .dataframe tbody tr th:only-of-type {\n",
              "        vertical-align: middle;\n",
              "    }\n",
              "\n",
              "    .dataframe tbody tr th {\n",
              "        vertical-align: top;\n",
              "    }\n",
              "\n",
              "    .dataframe thead th {\n",
              "        text-align: right;\n",
              "    }\n",
              "</style>\n",
              "<table border=\"1\" class=\"dataframe\">\n",
              "  <thead>\n",
              "    <tr style=\"text-align: right;\">\n",
              "      <th></th>\n",
              "      <th>LB</th>\n",
              "      <th>AC</th>\n",
              "      <th>FM</th>\n",
              "      <th>UC</th>\n",
              "      <th>DL</th>\n",
              "      <th>DS</th>\n",
              "      <th>DP</th>\n",
              "      <th>ASTV</th>\n",
              "      <th>MSTV</th>\n",
              "      <th>ALTV</th>\n",
              "      <th>MLTV</th>\n",
              "      <th>Min</th>\n",
              "      <th>Max</th>\n",
              "      <th>Nmax</th>\n",
              "      <th>Nzeros</th>\n",
              "      <th>Mode</th>\n",
              "      <th>Variance</th>\n",
              "    </tr>\n",
              "  </thead>\n",
              "  <tbody>\n",
              "    <tr>\n",
              "      <th>0</th>\n",
              "      <td>120</td>\n",
              "      <td>0.000000</td>\n",
              "      <td>0.000000</td>\n",
              "      <td>0.000000</td>\n",
              "      <td>0.000000</td>\n",
              "      <td>0.0</td>\n",
              "      <td>0.0</td>\n",
              "      <td>73</td>\n",
              "      <td>0.5</td>\n",
              "      <td>43</td>\n",
              "      <td>2.4</td>\n",
              "      <td>62</td>\n",
              "      <td>126</td>\n",
              "      <td>2</td>\n",
              "      <td>0</td>\n",
              "      <td>120</td>\n",
              "      <td>73</td>\n",
              "    </tr>\n",
              "    <tr>\n",
              "      <th>1</th>\n",
              "      <td>132</td>\n",
              "      <td>0.006380</td>\n",
              "      <td>0.000000</td>\n",
              "      <td>0.006380</td>\n",
              "      <td>0.003190</td>\n",
              "      <td>0.0</td>\n",
              "      <td>0.0</td>\n",
              "      <td>17</td>\n",
              "      <td>2.1</td>\n",
              "      <td>0</td>\n",
              "      <td>10.4</td>\n",
              "      <td>68</td>\n",
              "      <td>198</td>\n",
              "      <td>6</td>\n",
              "      <td>1</td>\n",
              "      <td>141</td>\n",
              "      <td>12</td>\n",
              "    </tr>\n",
              "    <tr>\n",
              "      <th>2</th>\n",
              "      <td>133</td>\n",
              "      <td>0.003322</td>\n",
              "      <td>0.000000</td>\n",
              "      <td>0.008306</td>\n",
              "      <td>0.003322</td>\n",
              "      <td>0.0</td>\n",
              "      <td>0.0</td>\n",
              "      <td>16</td>\n",
              "      <td>2.1</td>\n",
              "      <td>0</td>\n",
              "      <td>13.4</td>\n",
              "      <td>68</td>\n",
              "      <td>198</td>\n",
              "      <td>5</td>\n",
              "      <td>1</td>\n",
              "      <td>141</td>\n",
              "      <td>13</td>\n",
              "    </tr>\n",
              "    <tr>\n",
              "      <th>3</th>\n",
              "      <td>134</td>\n",
              "      <td>0.002561</td>\n",
              "      <td>0.000000</td>\n",
              "      <td>0.007682</td>\n",
              "      <td>0.002561</td>\n",
              "      <td>0.0</td>\n",
              "      <td>0.0</td>\n",
              "      <td>16</td>\n",
              "      <td>2.4</td>\n",
              "      <td>0</td>\n",
              "      <td>23.0</td>\n",
              "      <td>53</td>\n",
              "      <td>170</td>\n",
              "      <td>11</td>\n",
              "      <td>0</td>\n",
              "      <td>137</td>\n",
              "      <td>13</td>\n",
              "    </tr>\n",
              "    <tr>\n",
              "      <th>4</th>\n",
              "      <td>132</td>\n",
              "      <td>0.006515</td>\n",
              "      <td>0.000000</td>\n",
              "      <td>0.008143</td>\n",
              "      <td>0.000000</td>\n",
              "      <td>0.0</td>\n",
              "      <td>0.0</td>\n",
              "      <td>16</td>\n",
              "      <td>2.4</td>\n",
              "      <td>0</td>\n",
              "      <td>19.9</td>\n",
              "      <td>53</td>\n",
              "      <td>170</td>\n",
              "      <td>9</td>\n",
              "      <td>0</td>\n",
              "      <td>137</td>\n",
              "      <td>11</td>\n",
              "    </tr>\n",
              "    <tr>\n",
              "      <th>...</th>\n",
              "      <td>...</td>\n",
              "      <td>...</td>\n",
              "      <td>...</td>\n",
              "      <td>...</td>\n",
              "      <td>...</td>\n",
              "      <td>...</td>\n",
              "      <td>...</td>\n",
              "      <td>...</td>\n",
              "      <td>...</td>\n",
              "      <td>...</td>\n",
              "      <td>...</td>\n",
              "      <td>...</td>\n",
              "      <td>...</td>\n",
              "      <td>...</td>\n",
              "      <td>...</td>\n",
              "      <td>...</td>\n",
              "      <td>...</td>\n",
              "    </tr>\n",
              "    <tr>\n",
              "      <th>2121</th>\n",
              "      <td>140</td>\n",
              "      <td>0.000000</td>\n",
              "      <td>0.000000</td>\n",
              "      <td>0.007426</td>\n",
              "      <td>0.000000</td>\n",
              "      <td>0.0</td>\n",
              "      <td>0.0</td>\n",
              "      <td>79</td>\n",
              "      <td>0.2</td>\n",
              "      <td>25</td>\n",
              "      <td>7.2</td>\n",
              "      <td>137</td>\n",
              "      <td>177</td>\n",
              "      <td>4</td>\n",
              "      <td>0</td>\n",
              "      <td>153</td>\n",
              "      <td>2</td>\n",
              "    </tr>\n",
              "    <tr>\n",
              "      <th>2122</th>\n",
              "      <td>140</td>\n",
              "      <td>0.000775</td>\n",
              "      <td>0.000000</td>\n",
              "      <td>0.006971</td>\n",
              "      <td>0.000000</td>\n",
              "      <td>0.0</td>\n",
              "      <td>0.0</td>\n",
              "      <td>78</td>\n",
              "      <td>0.4</td>\n",
              "      <td>22</td>\n",
              "      <td>7.1</td>\n",
              "      <td>103</td>\n",
              "      <td>169</td>\n",
              "      <td>6</td>\n",
              "      <td>0</td>\n",
              "      <td>152</td>\n",
              "      <td>3</td>\n",
              "    </tr>\n",
              "    <tr>\n",
              "      <th>2123</th>\n",
              "      <td>140</td>\n",
              "      <td>0.000980</td>\n",
              "      <td>0.000000</td>\n",
              "      <td>0.006863</td>\n",
              "      <td>0.000000</td>\n",
              "      <td>0.0</td>\n",
              "      <td>0.0</td>\n",
              "      <td>79</td>\n",
              "      <td>0.4</td>\n",
              "      <td>20</td>\n",
              "      <td>6.1</td>\n",
              "      <td>103</td>\n",
              "      <td>170</td>\n",
              "      <td>5</td>\n",
              "      <td>0</td>\n",
              "      <td>153</td>\n",
              "      <td>4</td>\n",
              "    </tr>\n",
              "    <tr>\n",
              "      <th>2124</th>\n",
              "      <td>140</td>\n",
              "      <td>0.000679</td>\n",
              "      <td>0.000000</td>\n",
              "      <td>0.006110</td>\n",
              "      <td>0.000000</td>\n",
              "      <td>0.0</td>\n",
              "      <td>0.0</td>\n",
              "      <td>78</td>\n",
              "      <td>0.4</td>\n",
              "      <td>27</td>\n",
              "      <td>7.0</td>\n",
              "      <td>103</td>\n",
              "      <td>169</td>\n",
              "      <td>6</td>\n",
              "      <td>0</td>\n",
              "      <td>152</td>\n",
              "      <td>4</td>\n",
              "    </tr>\n",
              "    <tr>\n",
              "      <th>2125</th>\n",
              "      <td>142</td>\n",
              "      <td>0.001616</td>\n",
              "      <td>0.001616</td>\n",
              "      <td>0.008078</td>\n",
              "      <td>0.000000</td>\n",
              "      <td>0.0</td>\n",
              "      <td>0.0</td>\n",
              "      <td>74</td>\n",
              "      <td>0.4</td>\n",
              "      <td>36</td>\n",
              "      <td>5.0</td>\n",
              "      <td>117</td>\n",
              "      <td>159</td>\n",
              "      <td>2</td>\n",
              "      <td>1</td>\n",
              "      <td>145</td>\n",
              "      <td>1</td>\n",
              "    </tr>\n",
              "  </tbody>\n",
              "</table>\n",
              "<p>2126 rows × 17 columns</p>\n",
              "</div>\n",
              "      <button class=\"colab-df-convert\" onclick=\"convertToInteractive('df-fae6a421-5d57-4e09-a640-c0720ca8131a')\"\n",
              "              title=\"Convert this dataframe to an interactive table.\"\n",
              "              style=\"display:none;\">\n",
              "        \n",
              "  <svg xmlns=\"http://www.w3.org/2000/svg\" height=\"24px\"viewBox=\"0 0 24 24\"\n",
              "       width=\"24px\">\n",
              "    <path d=\"M0 0h24v24H0V0z\" fill=\"none\"/>\n",
              "    <path d=\"M18.56 5.44l.94 2.06.94-2.06 2.06-.94-2.06-.94-.94-2.06-.94 2.06-2.06.94zm-11 1L8.5 8.5l.94-2.06 2.06-.94-2.06-.94L8.5 2.5l-.94 2.06-2.06.94zm10 10l.94 2.06.94-2.06 2.06-.94-2.06-.94-.94-2.06-.94 2.06-2.06.94z\"/><path d=\"M17.41 7.96l-1.37-1.37c-.4-.4-.92-.59-1.43-.59-.52 0-1.04.2-1.43.59L10.3 9.45l-7.72 7.72c-.78.78-.78 2.05 0 2.83L4 21.41c.39.39.9.59 1.41.59.51 0 1.02-.2 1.41-.59l7.78-7.78 2.81-2.81c.8-.78.8-2.07 0-2.86zM5.41 20L4 18.59l7.72-7.72 1.47 1.35L5.41 20z\"/>\n",
              "  </svg>\n",
              "      </button>\n",
              "      \n",
              "  <style>\n",
              "    .colab-df-container {\n",
              "      display:flex;\n",
              "      flex-wrap:wrap;\n",
              "      gap: 12px;\n",
              "    }\n",
              "\n",
              "    .colab-df-convert {\n",
              "      background-color: #E8F0FE;\n",
              "      border: none;\n",
              "      border-radius: 50%;\n",
              "      cursor: pointer;\n",
              "      display: none;\n",
              "      fill: #1967D2;\n",
              "      height: 32px;\n",
              "      padding: 0 0 0 0;\n",
              "      width: 32px;\n",
              "    }\n",
              "\n",
              "    .colab-df-convert:hover {\n",
              "      background-color: #E2EBFA;\n",
              "      box-shadow: 0px 1px 2px rgba(60, 64, 67, 0.3), 0px 1px 3px 1px rgba(60, 64, 67, 0.15);\n",
              "      fill: #174EA6;\n",
              "    }\n",
              "\n",
              "    [theme=dark] .colab-df-convert {\n",
              "      background-color: #3B4455;\n",
              "      fill: #D2E3FC;\n",
              "    }\n",
              "\n",
              "    [theme=dark] .colab-df-convert:hover {\n",
              "      background-color: #434B5C;\n",
              "      box-shadow: 0px 1px 3px 1px rgba(0, 0, 0, 0.15);\n",
              "      filter: drop-shadow(0px 1px 2px rgba(0, 0, 0, 0.3));\n",
              "      fill: #FFFFFF;\n",
              "    }\n",
              "  </style>\n",
              "\n",
              "      <script>\n",
              "        const buttonEl =\n",
              "          document.querySelector('#df-fae6a421-5d57-4e09-a640-c0720ca8131a button.colab-df-convert');\n",
              "        buttonEl.style.display =\n",
              "          google.colab.kernel.accessAllowed ? 'block' : 'none';\n",
              "\n",
              "        async function convertToInteractive(key) {\n",
              "          const element = document.querySelector('#df-fae6a421-5d57-4e09-a640-c0720ca8131a');\n",
              "          const dataTable =\n",
              "            await google.colab.kernel.invokeFunction('convertToInteractive',\n",
              "                                                     [key], {});\n",
              "          if (!dataTable) return;\n",
              "\n",
              "          const docLinkHtml = 'Like what you see? Visit the ' +\n",
              "            '<a target=\"_blank\" href=https://colab.research.google.com/notebooks/data_table.ipynb>data table notebook</a>'\n",
              "            + ' to learn more about interactive tables.';\n",
              "          element.innerHTML = '';\n",
              "          dataTable['output_type'] = 'display_data';\n",
              "          await google.colab.output.renderOutput(dataTable, element);\n",
              "          const docLink = document.createElement('div');\n",
              "          docLink.innerHTML = docLinkHtml;\n",
              "          element.appendChild(docLink);\n",
              "        }\n",
              "      </script>\n",
              "    </div>\n",
              "  </div>\n",
              "  "
            ]
          },
          "metadata": {},
          "execution_count": 42
        }
      ]
    },
    {
      "cell_type": "markdown",
      "source": [
        "# Standardizzazione"
      ],
      "metadata": {
        "id": "bTkM43P28hFm"
      }
    },
    {
      "cell_type": "code",
      "metadata": {
        "id": "oRC4rxTSluv4"
      },
      "source": [
        "# STANDARDIZZAZIONE\n",
        "sc= StandardScaler()\n",
        "sc.fit(X_train)\n",
        "\n",
        "X_train=sc.transform(X_train)\n",
        "X_test=sc.transform(X_test)"
      ],
      "execution_count": null,
      "outputs": []
    },
    {
      "cell_type": "markdown",
      "source": [
        "# *PCA (inside the k-fold cross val)*"
      ],
      "metadata": {
        "id": "5cSSxYys8kB4"
      }
    },
    {
      "cell_type": "code",
      "metadata": {
        "id": "SgRDjSAyuWHQ"
      },
      "source": [
        "# DIMENSIONALITY REDUCTION - PCA\n",
        "\n",
        "if applay_pca==True:\n",
        "\n",
        "  pca = PCA(n_components=11, random_state=2020)\n",
        "  X_train = pca.fit_transform(X_train)\n",
        "\n",
        "  \n",
        "  print(X_train.shape)\n",
        "  var_exp=pca.explained_variance_ratio_ \n",
        "  cum_var_exp = np.cumsum(pca.explained_variance_ratio_)\n",
        "\n",
        "  X_test = pca.transform(X_test)\n",
        "\n",
        "  # plot explained variances\n",
        "\n",
        "  \n",
        "  fig=plt.figure(1, figsize=(10,8))\n",
        "  plt.bar(range(0,len(var_exp)), height=var_exp, alpha=0.5, align='center', color = 'mediumturquoise')\n",
        "  plt.plot(range(0,len(var_exp)), cum_var_exp, marker='o',  label='cumulative explained variance',color = 'teal' )\n",
        "  plt.ylabel('Explained variance ratio', fontsize= 10)\n",
        "  plt.xlabel('Principal component index', fontsize=10)\n",
        "  plt.xticks( range(0,len(var_exp)), range(1,(len(var_exp)+1)))\n",
        "  plt.yticks([0.1,0.2,0.3,0.4,0.5,0.6,0.7,0.8,0.9,1])\n",
        "  plt.legend(loc='best')\n",
        "  plt.grid()\n",
        "  plt.show()\n"
      ],
      "execution_count": null,
      "outputs": []
    },
    {
      "cell_type": "code",
      "source": [
        "# Scatter interaction plot sulle due più importanti PCA (train)\n",
        "'''\n",
        "pca1= X_train[:,0]\n",
        "pca2=X_train[:,1]\n",
        "\n",
        "target=Y_train\n",
        "\n",
        "\n",
        "fig, ax = plt.subplots(figsize= (15,6))\n",
        "\n",
        "labels=['Normal', 'Pathologic']\n",
        "pop_a = mpatches.Patch(color='steelblue', label='Normal')\n",
        "pop_b = mpatches.Patch(color='crimson', label='Pathologic')\n",
        "colors=['palegreen','salmon']\n",
        "\n",
        "ax.scatter(pca1, pca2, c=target, cmap=matplotlib.colors.ListedColormap(colors), label=labels)\n",
        "ax.grid()\n",
        "ax.set_xlabel('PCA1')\n",
        "ax.set_ylabel('PCA2')\n",
        "\n",
        "\n",
        "plt.tight_layout()# let's make good plots\n",
        "plt.show()\n",
        "'''"
      ],
      "metadata": {
        "colab": {
          "base_uri": "https://localhost:8080/"
        },
        "id": "_zncD4gGtQc7",
        "outputId": "42975197-eb11-4c5e-ff8a-99fa92d4bde7"
      },
      "execution_count": null,
      "outputs": [
        {
          "output_type": "execute_result",
          "data": {
            "text/plain": [
              "\"\\npca1= X_train[:,0]\\npca2=X_train[:,1]\\n\\ntarget=Y_train\\n\\n\\nfig, ax = plt.subplots(figsize= (15,6))\\n\\nlabels=['Normal', 'Pathologic']\\npop_a = mpatches.Patch(color='steelblue', label='Normal')\\npop_b = mpatches.Patch(color='crimson', label='Pathologic')\\ncolors=['palegreen','salmon']\\n\\nax.scatter(pca1, pca2, c=target, cmap=matplotlib.colors.ListedColormap(colors), label=labels)\\nax.grid()\\nax.set_xlabel('PCA1')\\nax.set_ylabel('PCA2')\\n\\n\\nplt.tight_layout()# let's make good plots\\nplt.show()\\n\""
            ],
            "application/vnd.google.colaboratory.intrinsic+json": {
              "type": "string"
            }
          },
          "metadata": {},
          "execution_count": 45
        }
      ]
    },
    {
      "cell_type": "markdown",
      "source": [
        "# *Resampling (inside the k-fold cross validation)*"
      ],
      "metadata": {
        "id": "6bkMyKJu7q3R"
      }
    },
    {
      "cell_type": "code",
      "source": [
        "# OVERSAMPLING RANDOM\n",
        "'''\n",
        "if overRand:\n",
        "  oversampleRand = RandomOverSampler(sampling_strategy='minority')\n",
        "  X_train, Y_train = oversampleRand.fit_resample(X_train, Y_train)\n",
        "'''"
      ],
      "metadata": {
        "id": "v75J3tyc7wqb",
        "colab": {
          "base_uri": "https://localhost:8080/"
        },
        "outputId": "640575ad-c5be-4f9c-ff92-97523cc9c6f5"
      },
      "execution_count": null,
      "outputs": [
        {
          "output_type": "execute_result",
          "data": {
            "text/plain": [
              "\"\\nif overRand:\\n  oversampleRand = RandomOverSampler(sampling_strategy='minority')\\n  X_train, Y_train = oversampleRand.fit_resample(X_train, Y_train)\\n\""
            ],
            "application/vnd.google.colaboratory.intrinsic+json": {
              "type": "string"
            }
          },
          "metadata": {},
          "execution_count": 46
        }
      ]
    },
    {
      "cell_type": "code",
      "source": [
        "# controllo dell'oversampling:\n",
        "'''\n",
        "Y_train\n",
        "unique, counts = np.unique(Y_train, return_counts=True)\n",
        "dict(zip(unique, counts))\n",
        "'''"
      ],
      "metadata": {
        "colab": {
          "base_uri": "https://localhost:8080/"
        },
        "id": "1GBJ_rhr9wUT",
        "outputId": "b91c78ac-7a82-4e65-b48a-1dae9a05e390"
      },
      "execution_count": null,
      "outputs": [
        {
          "output_type": "execute_result",
          "data": {
            "text/plain": [
              "'\\nY_train\\nunique, counts = np.unique(Y_train, return_counts=True)\\ndict(zip(unique, counts))\\n'"
            ],
            "application/vnd.google.colaboratory.intrinsic+json": {
              "type": "string"
            }
          },
          "metadata": {},
          "execution_count": 47
        }
      ]
    },
    {
      "cell_type": "code",
      "source": [
        "'''\n",
        "#OVERSAMPLING SMOTE\n",
        "if overSMOTE:\n",
        "  smote = SMOTE(random_state=42)\n",
        "  X_train, Y_train = smote.fit_resample(X_train, Y_train)\n",
        "\n",
        "#UNDERSAMPLING\n",
        "elif underCentr:\n",
        "  under = ClusterCentroids(random_state=42)\n",
        "  X_train, Y_train = under.fit_resample(X_train, Y_train)\n",
        "\n",
        "#SMOOTEN\n",
        "elif overSMOOTEN:\n",
        "  sme = SMOTEENN(sampling_strategy='minority',\n",
        "                enn=EditedNearestNeighbours(sampling_strategy='all',kind_sel='all'), random_state=42)\n",
        "\n",
        "  X_train, Y_train = sme.fit_resample(X_train, Y_train)\n",
        "'''"
      ],
      "metadata": {
        "colab": {
          "base_uri": "https://localhost:8080/"
        },
        "id": "GPdHUUTOiqOT",
        "outputId": "6ec0e013-1a80-4286-8485-455dade36035"
      },
      "execution_count": null,
      "outputs": [
        {
          "output_type": "execute_result",
          "data": {
            "text/plain": [
              "\"\\n#OVERSAMPLING SMOTE\\nif overSMOTE:\\n  smote = SMOTE(random_state=42)\\n  X_train, Y_train = smote.fit_resample(X_train, Y_train)\\n\\n#UNDERSAMPLING\\nelif underCentr:\\n  under = ClusterCentroids(random_state=42)\\n  X_train, Y_train = under.fit_resample(X_train, Y_train)\\n\\n#SMOOTEN\\nelif overSMOOTEN:\\n  sme = SMOTEENN(sampling_strategy='minority',\\n                enn=EditedNearestNeighbours(sampling_strategy='all',kind_sel='all'), random_state=42)\\n\\n  X_train, Y_train = sme.fit_resample(X_train, Y_train)\\n\""
            ],
            "application/vnd.google.colaboratory.intrinsic+json": {
              "type": "string"
            }
          },
          "metadata": {},
          "execution_count": 48
        }
      ]
    },
    {
      "cell_type": "markdown",
      "source": [
        "# Classification methods"
      ],
      "metadata": {
        "id": "dga7iSmP8xZD"
      }
    },
    {
      "cell_type": "code",
      "metadata": {
        "colab": {
          "base_uri": "https://localhost:8080/"
        },
        "id": "cHLzPekTajJu",
        "outputId": "5fb40103-0dd0-4b54-89a5-be1e0e51cdd4"
      },
      "source": [
        "#CLASSIFICAZIONE\n",
        "\n",
        "algoritmo = 'KNN'#\n",
        "\n",
        "\n",
        "if algoritmo == 'SVM' : \n",
        "    # Support Vector Machine (SVM) classifier\n",
        "    # best config found {'C': 1, 'gamma': 0.01, 'kernel': 'rbf'} \n",
        "    parameter_grid = {\n",
        "      'C': [100, 0.1, 1, 10, 0.001, 0.0001],\n",
        "      'kernel': ['rbf', 'poly','linear'],\n",
        "      'gamma': [0.0001, 0.001, 0.01]\n",
        "    }\n",
        "    clf_name = 'svc__'\n",
        "    classifier = SVC() # or SVC\n",
        "    \n",
        "elif algoritmo == 'RandomForest':\n",
        "    # Random Forest classifier\n",
        "    # {'randomforestclassifier__criterion': 'entropy', 'randomforestclassifier__max_features': 'sqrt', 'randomforestclassifier__n_estimators': 200, 'randomforestclassifier__oob_score': True}\n",
        "    parameter_grid = {\n",
        "      \"criterion\":[\"gini\", \"entropy\"],\n",
        "      \"max_features\":[None, \"sqrt\"],\n",
        "      \"oob_score\":[True],\n",
        "      \"n_estimators\":[10, 50, 100, 200]\n",
        "    }\n",
        "    clf_name = 'randomforestclassifier__'\n",
        "    classifier = RandomForestClassifier()\n",
        "    \n",
        "elif algoritmo == 'LogisticRegression':\n",
        "    # Logistic Regression classifier\n",
        "    parameter_grid = {\n",
        "        \"C\":[0.0001, 0.001, 0.01, 0.1, 1, 10],\n",
        "        \"max_iter\":[100,200,300,600]\n",
        "    }\n",
        "    clf_name = 'logisticregression__'\n",
        "    classifier = LogisticRegression()\n",
        "    \n",
        "elif algoritmo == 'KNN':\n",
        "    # K-Nearest Neighbors classifier\n",
        "    parameter_grid = {\n",
        "        \"n_neighbors\":[100, 200, 50, 30, 20, 10, 5, 3],\n",
        "        \"weights\":['uniform','distance'],\n",
        "        \"p\":[1,2,2000]\n",
        "    }\n",
        "    clf_name = 'kneighborsclassifier__'\n",
        "    classifier = KNeighborsClassifier() \n",
        "else :\n",
        "    raise RuntimeError(\"Choose a correct classifier.\");\n",
        "\n",
        "\n",
        "#new_params = {key: parameter_grid[key] for key in parameter_grid}\n",
        "new_params = {clf_name + key: parameter_grid[key] for key in parameter_grid}\n",
        "kf = StratifiedKFold(n_splits=5, random_state=42, shuffle=True)\n",
        "\n",
        "if applay_pca_pi:\n",
        "  if overRand:\n",
        "      my_pipeline = make_pipeline(PCA(n_components=11, random_state=2020), RandomOverSampler(sampling_strategy='minority',random_state=42), classifier)\n",
        "  elif overSMOTE:\n",
        "      my_pipeline = make_pipeline(PCA(n_components=11, random_state=2020), SMOTE(random_state=42), classifier)\n",
        "  elif underCentr:\n",
        "      my_pipeline = make_pipeline(PCA(n_components=11, random_state=2020), ClusterCentroids(random_state=42), classifier)\n",
        "  elif overSMOOTEN:\n",
        "      my_pipeline = make_pipeline(PCA(n_components=11, random_state=2020), SMOTEENN(sampling_strategy='minority',enn=EditedNearestNeighbours(sampling_strategy='all',kind_sel='all'), random_state=42), classifier)        \n",
        "  else :\n",
        "      # DO NOT apply oversampling on training dataset, just the classifier\n",
        "      my_pipeline = make_pipeline(PCA(n_components=11, random_state=2020),classifier)\n",
        "\n",
        "else:\n",
        "  if overRand:\n",
        "      my_pipeline = make_pipeline(RandomOverSampler(sampling_strategy='minority',random_state=42), classifier)\n",
        "  elif overSMOTE:\n",
        "      my_pipeline = make_pipeline(SMOTE(random_state=42), classifier)\n",
        "  elif underCentr:\n",
        "      my_pipeline = make_pipeline(ClusterCentroids(random_state=42), classifier)\n",
        "  elif overSMOOTEN:\n",
        "      my_pipeline = make_pipeline(SMOTEENN(sampling_strategy='minority',enn=EditedNearestNeighbours(sampling_strategy='all',kind_sel='all'), random_state=42), classifier)        \n",
        "  else :\n",
        "      # DO NOT apply oversampling on training dataset, just the classifier\n",
        "      my_pipeline = make_pipeline(classifier)\n",
        "\n",
        "SCORE = 'f1' # 'accuracy', 'precision', 'recall', 'f1'\n",
        "\n",
        "#precision = make_scorer(precision_score, average='weighted')\n",
        "f1 = make_scorer(f1_score, pos_label = 2, average='binary')\n",
        "#accuracy = make_scorer(accuracy_score)\n",
        "\n",
        "grid = GridSearchCV(my_pipeline, param_grid=new_params, cv=kf, scoring=f1, return_train_score=True)\n",
        "grid.fit(X_train, Y_train)\n",
        "\n",
        "print(f\"Best configuration found for {classifier}:\")\n",
        "print(grid.best_params_)\n",
        "print(f\"Val {SCORE}:   {grid.best_score_}\")"
      ],
      "execution_count": null,
      "outputs": [
        {
          "output_type": "stream",
          "name": "stdout",
          "text": [
            "Best configuration found for KNeighborsClassifier():\n",
            "{'kneighborsclassifier__n_neighbors': 3, 'kneighborsclassifier__p': 1, 'kneighborsclassifier__weights': 'distance'}\n",
            "Val f1:   0.8212357078846697\n"
          ]
        }
      ]
    },
    {
      "cell_type": "markdown",
      "source": [
        "# Results"
      ],
      "metadata": {
        "id": "YJxD4cud817f"
      }
    },
    {
      "cell_type": "code",
      "metadata": {
        "colab": {
          "base_uri": "https://localhost:8080/"
        },
        "id": "BFotXsaxg-wc",
        "outputId": "b40958e7-5a47-454c-f308-f274251390b1"
      },
      "source": [
        "#TEST\n",
        "'''\n",
        "new_model = SVC(**grid.best_params_)\n",
        "new_model.fit(X_train, Y_train)\n",
        "Y_pred = new_model.predict(X_test)\n",
        "'''\n",
        "\n",
        "#il grid mantiene già i best params che avevamo trovato\n",
        "Y_pred = grid.predict(X_test)\n",
        "\n",
        "report = classification_report(Y_test, Y_pred)\n",
        "accuracy=accuracy_score(Y_test, Y_pred)\n",
        "f1=f1_score(Y_test, Y_pred, pos_label = 2, average='binary')\n",
        "precision=precision_score(Y_test, Y_pred, pos_label = 2)\n",
        "recall=recall_score(Y_test, Y_pred, pos_label = 2)\n",
        "\n",
        "print(\"Accuracy: \",accuracy)\n",
        "print(\"Precision: \",precision)\n",
        "print(\"Recall: \",recall)\n",
        "print(\"F1: \",f1)\n",
        "print(f\"\")\n",
        "\n",
        "print(report)"
      ],
      "execution_count": null,
      "outputs": [
        {
          "output_type": "stream",
          "name": "stdout",
          "text": [
            "Accuracy:  0.9216524216524217\n",
            "Precision:  0.8344370860927153\n",
            "Recall:  0.8076923076923077\n",
            "F1:  0.8208469055374592\n",
            "\n",
            "              precision    recall  f1-score   support\n",
            "\n",
            "           1       0.95      0.95      0.95       546\n",
            "           2       0.83      0.81      0.82       156\n",
            "\n",
            "    accuracy                           0.92       702\n",
            "   macro avg       0.89      0.88      0.89       702\n",
            "weighted avg       0.92      0.92      0.92       702\n",
            "\n"
          ]
        }
      ]
    },
    {
      "cell_type": "markdown",
      "source": [
        "# Confusion matrix"
      ],
      "metadata": {
        "id": "zCNiOSkp84je"
      }
    },
    {
      "cell_type": "code",
      "metadata": {
        "colab": {
          "base_uri": "https://localhost:8080/",
          "height": 340
        },
        "id": "AnQseZvTuWjF",
        "outputId": "314051dc-49fe-46ed-8864-b9167fb0234f"
      },
      "source": [
        "disp = plot_confusion_matrix(grid, X_test, Y_test,\n",
        "                                 display_labels=['Normal','Pathologic'],\n",
        "                                 cmap=plt.cm.Blues, \n",
        "                                 #display_labels=data.target_names, \n",
        "                                 normalize=None)\n",
        "\n",
        "#disp.ax_.set_title(f'normalized confusion matrix {clf_name}')"
      ],
      "execution_count": null,
      "outputs": [
        {
          "output_type": "stream",
          "name": "stderr",
          "text": [
            "/usr/local/lib/python3.7/dist-packages/sklearn/utils/deprecation.py:87: FutureWarning: Function plot_confusion_matrix is deprecated; Function `plot_confusion_matrix` is deprecated in 1.0 and will be removed in 1.2. Use one of the class methods: ConfusionMatrixDisplay.from_predictions or ConfusionMatrixDisplay.from_estimator.\n",
            "  warnings.warn(msg, category=FutureWarning)\n"
          ]
        },
        {
          "output_type": "display_data",
          "data": {
            "text/plain": [
              "<Figure size 432x288 with 2 Axes>"
            ],
            "image/png": "[encoded data removed]"
          },
          "metadata": {}
        }
      ]
    },
    {
      "cell_type": "markdown",
      "source": [
        "# Saving results"
      ],
      "metadata": {
        "id": "0WdhvHtD5ohg"
      }
    },
    {
      "cell_type": "markdown",
      "source": [
        "KNN Results"
      ],
      "metadata": {
        "id": "55PgRm1Q50_t"
      }
    },
    {
      "cell_type": "code",
      "source": [
        ""
      ],
      "metadata": {
        "id": "4Mvqj5ex5uF9"
      },
      "execution_count": null,
      "outputs": []
    }
  ]
}